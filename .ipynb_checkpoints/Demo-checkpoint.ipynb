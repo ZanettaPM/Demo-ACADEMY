{
 "cells": [
  {
   "cell_type": "markdown",
   "metadata": {
    "collapsed": true
   },
   "source": [
    "# Data Analysis with ACADEMY methodology\n",
    "\n",
    "Here is an example of what it is possible to do using the ACADEMY methodology. \n",
    "For more informations please read Zanetta et al,. 2018 \n",
    "Don't hesitate to contact the author via Github or directly by email.\n",
    "\n",
    "## Author \n",
    "\n",
    "19/09/2018 Pierre-marie Zanetta\n",
    "\n",
    "## requirements\n",
    "\n",
    "HyperSpy 1.3 and need to merge the Pull request #1835 and #1462"
   ]
  },
  {
   "cell_type": "markdown",
   "metadata": {},
   "source": [
    "We first import the different pacakges necessary to run the whole code"
   ]
  },
  {
   "cell_type": "code",
   "execution_count": 1,
   "metadata": {
    "collapsed": true
   },
   "outputs": [],
   "source": [
    "%matplotlib qt nbagg\n",
    "import numpy as np\n",
    "import matplotlib.pyplot as plt\n",
    "#import hyperspy.api as hs "
   ]
  },
  {
   "cell_type": "markdown",
   "metadata": {},
   "source": [
    "To obtain a merged version that run the entire code it is possible to download the branch \"master_merged\" on my personnal github repository:\n",
    "https://github.com/ZanettaPM/hyperspy/tree/Master_merged\n",
    "\n",
    "clone this repository on a github folder in your documents and remplace the path below"
   ]
  },
  {
   "cell_type": "code",
   "execution_count": 1,
   "metadata": {},
   "outputs": [
    {
     "name": "stderr",
     "output_type": "stream",
     "text": [
      "WARNING:hyperspy_gui_traitsui:The module://ipykernel.pylab.backend_inline matplotlib backend is not supported by the installed traitsui version and the ETS toolkit has been set to null. To set the ETS toolkit independently from the matplotlib backend, set it before importing matplotlib.\n",
      "WARNING:hyperspy_gui_traitsui:The traitsui GUI elements are not available.\n"
     ]
    }
   ],
   "source": [
    "import imp\n",
    "hs=imp.load_source(\"hyperspy\", \"D://Users/Documents/GitHub/ZanettaPM/hyperspy/hyperspy/__init__.py\")\n",
    "hs=imp.load_source(\"hyperspy.api\", \"D://Users/Documents/GitHub/ZanettaPM/hyperspy/hyperspy/api.py\")"
   ]
  },
  {
   "cell_type": "code",
   "execution_count": 2,
   "metadata": {},
   "outputs": [
    {
     "data": {
      "text/plain": [
       "'1.4.dev'"
      ]
     },
     "execution_count": 2,
     "metadata": {},
     "output_type": "execute_result"
    }
   ],
   "source": [
    "hs.hyperspy.Release.version"
   ]
  },
  {
   "cell_type": "markdown",
   "metadata": {},
   "source": [
    "## 1. Description of the sample and getting started\n",
    "\n",
    "The sample consists of a cropped area of the map \"Zone 2\" of the meteorite of Paris presented in the paper.\n",
    "This sample is investigated using a FEG-SEM JEOL JSM-7800F LV at the University of Lille equipped with an EDX/EBSD Aztec system from Oxford Instruments and a silicon drift detector (SDD XMaxN) of 80 mm². \n",
    "\n",
    "Initially the raw file extracted from Aztech was composed of 3 files: \".msa\", \".rpl\" and the \".raw\"\n",
    "The \".msa\" file contains a single pixel spectrum and the metadata to calibrate it. The \".rpl\" is a header to read the \".raw\". The \".raw\" file contains an EDS/SEM spectral image.\n",
    "These data have been cropped and converted into the hyperspy format \".hspy\", and the metadata have been completed"
   ]
  },
  {
   "cell_type": "code",
   "execution_count": 3,
   "metadata": {},
   "outputs": [
    {
     "data": {
      "text/plain": [
       "<EDSSEMSpectrum, title: Map Sum Spectrum, dimensions: (97, 110|512)>"
      ]
     },
     "execution_count": 3,
     "metadata": {},
     "output_type": "execute_result"
    }
   ],
   "source": [
    "s=hs.load(\"data.hspy\")\n",
    "s"
   ]
  },
  {
   "cell_type": "code",
   "execution_count": 4,
   "metadata": {},
   "outputs": [
    {
     "data": {
      "text/plain": [
       "├── Acquisition_instrument\n",
       "│   └── SEM\n",
       "│       ├── Detector\n",
       "│       │   └── EDS\n",
       "│       │       ├── azimuth_angle = 0.0\n",
       "│       │       ├── elevation_angle = 29.0\n",
       "│       │       ├── energy_resolution_MnKa = 130.0\n",
       "│       │       ├── live_time = 170393.59375\n",
       "│       │       └── real_time = 210312.96875\n",
       "│       ├── Stage\n",
       "│       │   └── tilt_alpha = 0.0\n",
       "│       ├── beam_energy = 5.0\n",
       "│       └── magnification = X440\n",
       "├── General\n",
       "│   ├── date = 2017-01-24\n",
       "│   ├── original_filename = Paris_section-6_Map2\n",
       "│   ├── time = 17:42:00\n",
       "│   └── title = Map Sum Spectrum\n",
       "├── Sample\n",
       "│   ├── elements = ['Al', 'C', 'Ca', 'Fe', 'Mg', 'Na', 'Ni', 'O', 'S', 'Si']\n",
       "│   └── xray_lines = ['Al_Ka', 'C_Ka', 'Ca_La', 'Fe_La', 'Mg_Ka', 'Na_Ka', 'Ni_La', 'O_Ka', 'S_Ka', 'Si_Ka']\n",
       "└── Signal\n",
       "    ├── binned = True\n",
       "    ├── quantity = X-rays (Counts)\n",
       "    └── signal_type = EDS_SEM"
      ]
     },
     "execution_count": 4,
     "metadata": {},
     "output_type": "execute_result"
    }
   ],
   "source": [
    "s.metadata"
   ]
  },
  {
   "cell_type": "markdown",
   "metadata": {},
   "source": [
    "We plot the hyperspectral signal and the different X-ray lines.\n",
    "The signal have been calibrated in energy beforehand"
   ]
  },
  {
   "cell_type": "code",
   "execution_count": 5,
   "metadata": {
    "collapsed": true
   },
   "outputs": [],
   "source": [
    "s.plot(True) "
   ]
  },
  {
   "cell_type": "markdown",
   "metadata": {},
   "source": [
    "## 2. Creating a model with gaussians and the new background formulation"
   ]
  },
  {
   "cell_type": "markdown",
   "metadata": {},
   "source": [
    "To obtain accurate elemental maps, we create a model to remove the background and we fit gaussian functions to the hyperspectral map."
   ]
  },
  {
   "cell_type": "markdown",
   "metadata": {},
   "source": [
    "The default background proposed by hyperspy is a polynome function. Here we don't use this components but we add another background taking into account the emission and the absorption within the sample and the detector. \n",
    "To see the code behind this component please refer to the pull request #1835"
   ]
  },
  {
   "cell_type": "code",
   "execution_count": 6,
   "metadata": {
    "collapsed": true
   },
   "outputs": [],
   "source": [
    "m=s.create_model(auto_background=False)"
   ]
  },
  {
   "cell_type": "markdown",
   "metadata": {},
   "source": [
    "The thin window in front of our detector is a polymer window. We use the efficiency curve modelised beforehand."
   ]
  },
  {
   "cell_type": "code",
   "execution_count": 7,
   "metadata": {
    "collapsed": true
   },
   "outputs": [],
   "source": [
    "m.add_physical_background(detector='Polymer_C')"
   ]
  },
  {
   "cell_type": "markdown",
   "metadata": {},
   "source": [
    "In first instance we approximate the composition of each pixel based on the height of the peaks. This approximation is necessary to obtain a shape of of the background which fit well with the data."
   ]
  },
  {
   "cell_type": "code",
   "execution_count": 8,
   "metadata": {},
   "outputs": [
    {
     "name": "stderr",
     "output_type": "stream",
     "text": [
      "D://Users/Documents/GitHub/ZanettaPM/hyperspy/hyperspy\\misc\\material.py:307: RuntimeWarning: divide by zero encountered in log\n",
      "  mac_res = np.exp(np.log(macs[index - 1]) +\n",
      "D://Users/Documents/GitHub/ZanettaPM/hyperspy/hyperspy\\misc\\material.py:308: RuntimeWarning: divide by zero encountered in true_divide\n",
      "  np.log(macs[index] / macs[index - 1]) *\n",
      "D://Users/Documents/GitHub/ZanettaPM/hyperspy/hyperspy\\misc\\material.py:309: RuntimeWarning: divide by zero encountered in true_divide\n",
      "  (np.log(energies / energies_db[index - 1]) /\n",
      "D://Users/Documents/GitHub/ZanettaPM/hyperspy/hyperspy\\misc\\material.py:309: RuntimeWarning: invalid value encountered in log\n",
      "  (np.log(energies / energies_db[index - 1]) /\n",
      "D://Users/Documents/GitHub/ZanettaPM/hyperspy/hyperspy\\misc\\material.py:310: RuntimeWarning: divide by zero encountered in true_divide\n",
      "  np.log(energies_db[index] / energies_db[index - 1])))\n",
      "D://Users/Documents/GitHub/ZanettaPM/hyperspy/hyperspy\\misc\\material.py:310: RuntimeWarning: invalid value encountered in true_divide\n",
      "  np.log(energies_db[index] / energies_db[index - 1])))\n"
     ]
    },
    {
     "data": {
      "text/plain": [
       "{'Quant map has been created'}"
      ]
     },
     "execution_count": 8,
     "metadata": {},
     "output_type": "execute_result"
    }
   ],
   "source": [
    "m.components.Bremsstrahlung.initialize()"
   ]
  },
  {
   "cell_type": "markdown",
   "metadata": {},
   "source": [
    "We print the differents components of the model and we can delete X-ray lines with weak intensity to speed up the fitting procedure."
   ]
  },
  {
   "cell_type": "code",
   "execution_count": 9,
   "metadata": {},
   "outputs": [
    {
     "data": {
      "text/plain": [
       "   # |      Attribute Name |      Component Name |      Component Type\n",
       "---- | ------------------- | ------------------- | -------------------\n",
       "   0 |               Al_Ka |               Al_Ka |            Gaussian\n",
       "   1 |               Al_Kb |               Al_Kb |            Gaussian\n",
       "   2 |                C_Ka |                C_Ka |            Gaussian\n",
       "   3 |               Ca_Ka |               Ca_Ka |            Gaussian\n",
       "   4 |               Ca_Kb |               Ca_Kb |            Gaussian\n",
       "   5 |               Ca_La |               Ca_La |            Gaussian\n",
       "   6 |               Ca_Ll |               Ca_Ll |            Gaussian\n",
       "   7 |               Ca_Ln |               Ca_Ln |            Gaussian\n",
       "   8 |               Fe_La |               Fe_La |            Gaussian\n",
       "   9 |              Fe_Lb3 |              Fe_Lb3 |            Gaussian\n",
       "  10 |               Fe_Ll |               Fe_Ll |            Gaussian\n",
       "  11 |               Fe_Ln |               Fe_Ln |            Gaussian\n",
       "  12 |               Mg_Ka |               Mg_Ka |            Gaussian\n",
       "  13 |               Mg_Kb |               Mg_Kb |            Gaussian\n",
       "  14 |               Na_Ka |               Na_Ka |            Gaussian\n",
       "  15 |               Na_Kb |               Na_Kb |            Gaussian\n",
       "  16 |               Ni_La |               Ni_La |            Gaussian\n",
       "  17 |              Ni_Lb3 |              Ni_Lb3 |            Gaussian\n",
       "  18 |               Ni_Ll |               Ni_Ll |            Gaussian\n",
       "  19 |              Ni_Lb1 |              Ni_Lb1 |            Gaussian\n",
       "  20 |               Ni_Ln |               Ni_Ln |            Gaussian\n",
       "  21 |                O_Ka |                O_Ka |            Gaussian\n",
       "  22 |                S_Ka |                S_Ka |            Gaussian\n",
       "  23 |                S_Kb |                S_Kb |            Gaussian\n",
       "  24 |               Si_Ka |               Si_Ka |            Gaussian\n",
       "  25 |               Si_Kb |               Si_Kb |            Gaussian\n",
       "  26 |      Bremsstrahlung |      Bremsstrahlung | Physical_background"
      ]
     },
     "execution_count": 9,
     "metadata": {},
     "output_type": "execute_result"
    }
   ],
   "source": [
    "m.components"
   ]
  },
  {
   "cell_type": "code",
   "execution_count": 10,
   "metadata": {
    "collapsed": true
   },
   "outputs": [],
   "source": [
    "m.remove([1,6,7,9,10,11,13,15,20])"
   ]
  },
  {
   "cell_type": "code",
   "execution_count": null,
   "metadata": {},
   "outputs": [
    {
     "data": {
      "text/plain": [
       "   # |      Attribute Name |      Component Name |      Component Type\n",
       "---- | ------------------- | ------------------- | -------------------\n",
       "   0 |               Al_Ka |               Al_Ka |            Gaussian\n",
       "   1 |                C_Ka |                C_Ka |            Gaussian\n",
       "   2 |               Ca_Ka |               Ca_Ka |            Gaussian\n",
       "   3 |               Ca_Kb |               Ca_Kb |            Gaussian\n",
       "   4 |               Ca_La |               Ca_La |            Gaussian\n",
       "   5 |               Fe_La |               Fe_La |            Gaussian\n",
       "   6 |               Mg_Ka |               Mg_Ka |            Gaussian\n",
       "   7 |               Na_Ka |               Na_Ka |            Gaussian\n",
       "   8 |               Ni_La |               Ni_La |            Gaussian\n",
       "   9 |              Ni_Lb3 |              Ni_Lb3 |            Gaussian\n",
       "  10 |               Ni_Ll |               Ni_Ll |            Gaussian\n",
       "  11 |              Ni_Lb1 |              Ni_Lb1 |            Gaussian\n",
       "  12 |                O_Ka |                O_Ka |            Gaussian\n",
       "  13 |                S_Ka |                S_Ka |            Gaussian\n",
       "  14 |                S_Kb |                S_Kb |            Gaussian\n",
       "  15 |               Si_Ka |               Si_Ka |            Gaussian\n",
       "  16 |               Si_Kb |               Si_Kb |            Gaussian\n",
       "  17 |      Bremsstrahlung |      Bremsstrahlung | Physical_background"
      ]
     },
     "execution_count": 11,
     "metadata": {},
     "output_type": "execute_result"
    }
   ],
   "source": [
    "m.components"
   ]
  },
  {
   "cell_type": "markdown",
   "metadata": {},
   "source": [
    "Finally, we fit the background to the data. The background cannot be negative, in consequence we fix bounds. "
   ]
  },
  {
   "cell_type": "code",
   "execution_count": null,
   "metadata": {},
   "outputs": [
    {
     "data": {
      "application/vnd.jupyter.widget-view+json": {
       "model_id": "393f5bbfd23b4ae8b43bb05c15def29d"
      }
     },
     "metadata": {},
     "output_type": "display_data"
    },
    {
     "name": "stderr",
     "output_type": "stream",
     "text": [
      "D://Users/Documents/GitHub/ZanettaPM/hyperspy/hyperspy\\misc\\material.py:307: RuntimeWarning: divide by zero encountered in log\n",
      "  mac_res = np.exp(np.log(macs[index - 1]) +\n",
      "D://Users/Documents/GitHub/ZanettaPM/hyperspy/hyperspy\\misc\\material.py:308: RuntimeWarning: divide by zero encountered in true_divide\n",
      "  np.log(macs[index] / macs[index - 1]) *\n",
      "D://Users/Documents/GitHub/ZanettaPM/hyperspy/hyperspy\\misc\\material.py:309: RuntimeWarning: divide by zero encountered in true_divide\n",
      "  (np.log(energies / energies_db[index - 1]) /\n",
      "D://Users/Documents/GitHub/ZanettaPM/hyperspy/hyperspy\\misc\\material.py:309: RuntimeWarning: invalid value encountered in log\n",
      "  (np.log(energies / energies_db[index - 1]) /\n",
      "D://Users/Documents/GitHub/ZanettaPM/hyperspy/hyperspy\\misc\\material.py:310: RuntimeWarning: divide by zero encountered in true_divide\n",
      "  np.log(energies_db[index] / energies_db[index - 1])))\n",
      "D://Users/Documents/GitHub/ZanettaPM/hyperspy/hyperspy\\misc\\material.py:310: RuntimeWarning: invalid value encountered in true_divide\n",
      "  np.log(energies_db[index] / energies_db[index - 1])))\n",
      "D://Users/Documents/GitHub/ZanettaPM/hyperspy/hyperspy\\_components\\physical_background.py:291: RuntimeWarning: divide by zero encountered in true_divide\n",
      "  emission=(a*((E0-x)/x)) #kramer's law\n",
      "D://Users/Documents/GitHub/ZanettaPM/hyperspy/hyperspy\\_components\\physical_background.py:292: RuntimeWarning: invalid value encountered in true_divide\n",
      "  absorption=((1-np.exp(-2*Mu*b*10**-5*cosec))/((2*Mu*b*10**-5*cosec))) #love and scott model.\n"
     ]
    }
   ],
   "source": [
    "m.fit_background(kind='multi',bounded=True, windows_sigma=([3,3]))"
   ]
  },
  {
   "cell_type": "markdown",
   "metadata": {},
   "source": [
    "And we fit the gaussians using the linear fit proposed by thomas aarholt (already merged in \"master_merged\")\n",
    "https://github.com/hyperspy/hyperspy/pull/1462"
   ]
  },
  {
   "cell_type": "code",
   "execution_count": null,
   "metadata": {
    "collapsed": true
   },
   "outputs": [],
   "source": [
    "m.fix_background()"
   ]
  },
  {
   "cell_type": "code",
   "execution_count": null,
   "metadata": {
    "collapsed": true
   },
   "outputs": [],
   "source": [
    "m.multifit(bounded=True)"
   ]
  },
  {
   "cell_type": "code",
   "execution_count": null,
   "metadata": {
    "collapsed": true
   },
   "outputs": [],
   "source": [
    "m.plot(plot_components=True)"
   ]
  },
  {
   "cell_type": "code",
   "execution_count": null,
   "metadata": {},
   "outputs": [],
   "source": [
    "elemap=m.get_lines_intensity()\n",
    "plt.figure()\n",
    "plt.imshow(elemap[5],cmap='jet')\n",
    "plt.title('Mg map, background corrected, in number of counts')\n",
    "plt.colorbar()"
   ]
  },
  {
   "cell_type": "markdown",
   "metadata": {},
   "source": [
    "## 4. mineral map and MLLS procedure\n",
    "\n",
    "The phase map have been obtained using XmapTools software and manual refinement on matlab software. However, such clustering methods exist in python and have been proposed into hyperspy: \n",
    "https://github.com/hyperspy/hyperspy/pull/1353\n",
    "\n",
    "Here to continue the example, a file containing the value of the map is provided in the repository of this tutorial"
   ]
  },
  {
   "cell_type": "code",
   "execution_count": null,
   "metadata": {
    "collapsed": true
   },
   "outputs": [],
   "source": [
    "carto=hs.load('cartography.hspy')"
   ]
  },
  {
   "cell_type": "code",
   "execution_count": null,
   "metadata": {
    "collapsed": true
   },
   "outputs": [],
   "source": [
    "plt.imshow(carto,plt.get_cmap('jet', 11))\n",
    "cb = plt.colorbar()    \n",
    "cb.set_ticks([1.5,2.5,3.5,4.5,5.5,6.5,7.5,8.5,9.5,10.5,11.5,12.5])\n",
    "cb.set_ticklabels(['Metal Grain','Olivine','Pyroxene','Fe-rich sulfides','Epoxy','Pentlandite','Mg-rich phyll/amorph','Fe-rich phyll/amorph','Carbonates'\n",
    ",'Spinel','sulfates','Olivine (Fo<90)'])\n"
   ]
  },
  {
   "cell_type": "markdown",
   "metadata": {},
   "source": [
    "The modelised background is converted into a signal.(enfin ça c'est si cela marche)"
   ]
  },
  {
   "cell_type": "markdown",
   "metadata": {},
   "source": [
    "bgd=m.as_signal(component_list=[3])"
   ]
  },
  {
   "cell_type": "markdown",
   "metadata": {},
   "source": [
    "(s+bgd*1j).plot()"
   ]
  },
  {
   "cell_type": "markdown",
   "metadata": {},
   "source": [
    "Then we remove the background from the hyperspectral data"
   ]
  },
  {
   "cell_type": "markdown",
   "metadata": {},
   "source": [
    "s2=s-bgd\n",
    "mask=s2>0\n",
    "s2=s2*mask"
   ]
  },
  {
   "cell_type": "markdown",
   "metadata": {},
   "source": [
    "s2.plot(True)"
   ]
  },
  {
   "cell_type": "markdown",
   "metadata": {},
   "source": [
    "We create a new model that will contain the refence spectra"
   ]
  },
  {
   "cell_type": "code",
   "execution_count": null,
   "metadata": {
    "collapsed": true
   },
   "outputs": [],
   "source": [
    "s2=s"
   ]
  },
  {
   "cell_type": "code",
   "execution_count": null,
   "metadata": {
    "collapsed": true
   },
   "outputs": [],
   "source": [
    "m2 = s2.create_model(False,False)"
   ]
  },
  {
   "cell_type": "markdown",
   "metadata": {},
   "source": [
    "ideally we use the spectrum from reference grains. Here a simple mean is used for easier treatments "
   ]
  },
  {
   "cell_type": "code",
   "execution_count": null,
   "metadata": {
    "collapsed": true
   },
   "outputs": [],
   "source": [
    "carto=np.array(carto.data)\n",
    "a=int(np.max(carto))\n",
    "Sref=dict()\n",
    "indice=dict()\n",
    "for i in range (1,a+1):\n",
    "    s2=s.data[carto==i]\n",
    "    s2=hs.signals.EDSSEMSpectrum(s2)\n",
    "    s2=s2.mean()\n",
    "    s2.get_calibration_from(s) \n",
    "    s2.metadata=s.metadata \n",
    "    Sref[i]=s2\n",
    "    indice[i]=i"
   ]
  },
  {
   "cell_type": "code",
   "execution_count": null,
   "metadata": {},
   "outputs": [],
   "source": [
    "plt.figure()\n",
    "plt.plot(Sref[8])"
   ]
  },
  {
   "cell_type": "code",
   "execution_count": null,
   "metadata": {
    "collapsed": true
   },
   "outputs": [],
   "source": [
    "for i in range (1,a+1):\n",
    "    g=hs.model.components1D.ScalableFixedPattern(Sref[i])\n",
    "    m2.extend([g])"
   ]
  },
  {
   "cell_type": "code",
   "execution_count": null,
   "metadata": {},
   "outputs": [],
   "source": [
    "m2.components"
   ]
  },
  {
   "cell_type": "code",
   "execution_count": null,
   "metadata": {
    "collapsed": true
   },
   "outputs": [],
   "source": [
    "for i in range (0,len(m2)):\n",
    "    m2.set_parameters_not_free([i], parameter_name_list=['xscale','shift'])\n",
    "    m2.set_parameters_value('yscale',value=0.5,component_list=[i])\n",
    "    m2[i].yscale.bmin=0\n",
    "    m2[i].yscale.bmax=1"
   ]
  },
  {
   "cell_type": "code",
   "execution_count": null,
   "metadata": {},
   "outputs": [],
   "source": [
    "m2.multifit(bounded=True, grad=True)"
   ]
  },
  {
   "cell_type": "code",
   "execution_count": null,
   "metadata": {
    "collapsed": true
   },
   "outputs": [],
   "source": [
    "m2.plot(plot_components=True)"
   ]
  },
  {
   "cell_type": "code",
   "execution_count": null,
   "metadata": {
    "collapsed": true
   },
   "outputs": [],
   "source": [
    "for i in range(0,len(m2)):\n",
    "    a=m2[i].yscale.map['values']\n",
    "    plt.figure()\n",
    "    plt.imshow(a,cmap='jet')\n",
    "    plt.colorbar()"
   ]
  },
  {
   "cell_type": "markdown",
   "metadata": {},
   "source": [
    "# 5. Density map"
   ]
  },
  {
   "cell_type": "markdown",
   "metadata": {},
   "source": [
    "We have now corrected our modal abundances and the different reference grains have been analyzed using EPMA. Thanks to this measurements we know the composition of the different phases. Thoses compositions will be used for the density measurement of the hyperspectral map. "
   ]
  },
  {
   "cell_type": "code",
   "execution_count": null,
   "metadata": {},
   "outputs": [],
   "source": [
    "s.metadata"
   ]
  },
  {
   "cell_type": "code",
   "execution_count": null,
   "metadata": {
    "collapsed": true
   },
   "outputs": [],
   "source": [
    "s.metadata.Sample.elements=[]\n",
    "s.metadata.Sample.xray_lines=[]\n",
    "s.metadata.Sample.elements=['C','Na','O','Si','Fe','Al','Mg','S','Ni','Ca']\n",
    "s.add_lines()"
   ]
  },
  {
   "cell_type": "code",
   "execution_count": null,
   "metadata": {},
   "outputs": [],
   "source": [
    "s.metadata"
   ]
  },
  {
   "cell_type": "code",
   "execution_count": null,
   "metadata": {
    "collapsed": true
   },
   "outputs": [],
   "source": [
    "Metal_grain=[0,1,0,95,0,0,4,0,0,0]\n",
    "Olivine=[0,1,0,1.7,30,0,0,43.28,0,18.7]\n",
    "Pyroxene=[0,1,0,0,22.9,0,0,48.32,0,28.54]\n",
    "Fe_sulfides=[0,1,0,55.94,0,0,3.80,0,34.6,0]\n",
    "Epoxy=[0,70,0,0,0,0,0,30,0,0]\n",
    "Pentlandite=[0,1,0,32.5,0,0,22.5,0,27.3,0]\n",
    "Mg_phyll=[1.599,1,0.87,16.05,10.20,0.6,1.2,33.27,3.30,14.059]\n",
    "Fe_phyll=[1.67,1,0.39,20.87,7.43,0.7,1.17,29.75,2.22,12.5572]\n",
    "Carbonates=[0,40,39.46,1.11,0,0.3,0,17.31,0,0]\n",
    "Spinel=[0,0,3.64,19.751,8,0,0,36.89,3.6,12.83]\n",
    "Sulfate=[2,13.02,8.50,12.34,7.49,2,0,33.52,6,11]\n",
    "Fayalite=[0,0,0,16,23.21,0,0,41.6,0,18.6]\n",
    "Elmt=[Metal_grain,Olivine,Pyroxene,Fe_sulfides,Epoxy,Pentlandite,Mg_phyll,Fe_phyll,Carbonates,Spinel,Sulfate,Fayalite]"
   ]
  },
  {
   "cell_type": "code",
   "execution_count": null,
   "metadata": {
    "collapsed": true
   },
   "outputs": [],
   "source": [
    "x=np.shape(carto)"
   ]
  },
  {
   "cell_type": "code",
   "execution_count": null,
   "metadata": {
    "collapsed": true
   },
   "outputs": [],
   "source": [
    "mask2=[]\n",
    "mask2=np.ones([x[0],x[1],10])\n",
    "mask2=hs.signals.EDSSEMSpectrum(mask2)"
   ]
  },
  {
   "cell_type": "code",
   "execution_count": null,
   "metadata": {
    "collapsed": true
   },
   "outputs": [],
   "source": [
    "for i in range (0,12):\n",
    "    a=np.where(carto==(i+1))\n",
    "    x=np.shape(a)\n",
    "    for u in range (0,x[1]):\n",
    "        g=a[0]\n",
    "        h=a[1]\n",
    "        mask2.inav[h[u],g[u]] =Elmt[i]\n",
    "mask2.plot()"
   ]
  },
  {
   "cell_type": "code",
   "execution_count": null,
   "metadata": {},
   "outputs": [],
   "source": [
    "quanti=np.array(mask2.data,float)\n",
    "np.shape(quanti)"
   ]
  },
  {
   "cell_type": "code",
   "execution_count": null,
   "metadata": {
    "collapsed": true
   },
   "outputs": [],
   "source": [
    "m3=s.create_model(auto_background=False)"
   ]
  },
  {
   "cell_type": "code",
   "execution_count": null,
   "metadata": {
    "collapsed": true
   },
   "outputs": [],
   "source": [
    "m3.add_physical_background(detector='Polymer_C',quantification=quanti)"
   ]
  },
  {
   "cell_type": "code",
   "execution_count": null,
   "metadata": {
    "scrolled": true
   },
   "outputs": [],
   "source": [
    "m3.components"
   ]
  },
  {
   "cell_type": "code",
   "execution_count": null,
   "metadata": {
    "collapsed": true
   },
   "outputs": [],
   "source": [
    "m3.remove([1,6,7,9,10,11,13,15,20])"
   ]
  },
  {
   "cell_type": "code",
   "execution_count": null,
   "metadata": {},
   "outputs": [],
   "source": [
    "m3.components.Bremsstrahlung.initialize()"
   ]
  },
  {
   "cell_type": "code",
   "execution_count": null,
   "metadata": {},
   "outputs": [],
   "source": [
    "m3.fit_background(kind='multi',bounded=True, windows_sigma=[3,3])"
   ]
  },
  {
   "cell_type": "code",
   "execution_count": null,
   "metadata": {},
   "outputs": [],
   "source": [
    "m3.plot(plot_components=True)"
   ]
  },
  {
   "cell_type": "code",
   "execution_count": null,
   "metadata": {
    "collapsed": true
   },
   "outputs": [],
   "source": [
    "coef=(m3.components.Bremsstrahlung.coefficients.map['values'][:][:][:])"
   ]
  },
  {
   "cell_type": "code",
   "execution_count": null,
   "metadata": {},
   "outputs": [],
   "source": [
    "plt.figure()\n",
    "plt.imshow(coef[:,:,0],cmap='jet')\n",
    "plt.colorbar()"
   ]
  },
  {
   "cell_type": "code",
   "execution_count": null,
   "metadata": {
    "collapsed": true
   },
   "outputs": [],
   "source": [
    "Density=[8.1,3.27,3.4,4.61,1.2,5,2.88,2.9,1.6,3.72,2.75,4]\n",
    "x=np.shape(carto)\n",
    "Dnom=np.ones([x[0],x[1],1])\n",
    "Dnom=hs.signals.Signal1D(Dnom)\n",
    "\n",
    "\n",
    "for i in range (1,np.max(carto)):\n",
    "    a=np.where(carto==(i))\n",
    "    x=np.shape(a)\n",
    "    for u in range (0,x[1]):\n",
    "        g=a[0]\n",
    "        h=a[1]\n",
    "        Dnom.inav[h[u],g[u]] =Density[i-1]"
   ]
  },
  {
   "cell_type": "code",
   "execution_count": null,
   "metadata": {},
   "outputs": [],
   "source": [
    "mask=coef[:,:,0]>8\n",
    "coef[:,:,0][mask]=np.nan        \n",
    "mask=Dnom.data[:,:,0]<1.2\n",
    "Dnom.data[:,:,0][mask]=np.nan\n",
    "Dnom.plot()"
   ]
  },
  {
   "cell_type": "code",
   "execution_count": null,
   "metadata": {
    "collapsed": true
   },
   "outputs": [],
   "source": [
    "Density=np.ones(np.max(carto))\n",
    "Proxy=np.ones(np.max(carto))\n",
    "for i in range (1,np.max(carto)):\n",
    "    mask=carto==i\n",
    "    Density[i]=np.nanmean(Dnom.data[:,:,0][mask])\n",
    "    Proxy[i]=np.nanmean(coef[:,:,0][mask])"
   ]
  },
  {
   "cell_type": "code",
   "execution_count": null,
   "metadata": {},
   "outputs": [],
   "source": [
    "plt.figure()\n",
    "plt.plot(Density,Proxy,'.')"
   ]
  },
  {
   "cell_type": "code",
   "execution_count": null,
   "metadata": {},
   "outputs": [],
   "source": [
    "from scipy import stats\n",
    "x=np.transpose(Density)\n",
    "y=Proxy\n",
    "slope, intercept, r_value, p_value, std_err = stats.linregress(x, y)\n",
    "plt.plot(x, y, '.', label='data')\n",
    "plt.plot(x, intercept + slope*x, 'r', label='fit')\n",
    "\n",
    "#plt.title('Density proxy compare to real density')\n",
    "plt.xlabel('Real Density (g/cm3)')\n",
    "plt.ylabel('Fitted Proxy (Rho.x)')"
   ]
  },
  {
   "cell_type": "code",
   "execution_count": null,
   "metadata": {},
   "outputs": [],
   "source": [
    "a=slope\n",
    "b=intercept\n",
    "Dcalc=((coef[:,:,0]-intercept)/slope)\n",
    "mask=Dcalc>10\n",
    "Dcalc[mask]=np.nan\n",
    "plt.imshow(Dcalc,cmap='jet')\n",
    "plt.colorbar()"
   ]
  },
  {
   "cell_type": "markdown",
   "metadata": {},
   "source": [
    "Ecrire script ou tu multiplie quantmap*density*abonndance "
   ]
  },
  {
   "cell_type": "markdown",
   "metadata": {},
   "source": [
    "On extrait les AM corrigées par MLLS"
   ]
  },
  {
   "cell_type": "code",
   "execution_count": null,
   "metadata": {
    "collapsed": true
   },
   "outputs": [],
   "source": [
    "AMfinal=np.ones(np.max(carto)-1)\n",
    "for i in range (1,np.max(carto)):\n",
    "    a=np.sum(m2[i].yscale.map['values']);\n",
    "    AMfinal[i-1]=a/(s.axes_manager[0].size*s.axes_manager[1].size)"
   ]
  },
  {
   "cell_type": "code",
   "execution_count": null,
   "metadata": {},
   "outputs": [],
   "source": [
    "AMfinal"
   ]
  },
  {
   "cell_type": "markdown",
   "metadata": {},
   "source": [
    "On extrait les densité moyennes pour chaque phases"
   ]
  },
  {
   "cell_type": "code",
   "execution_count": null,
   "metadata": {
    "collapsed": true
   },
   "outputs": [],
   "source": [
    "Dfinal=np.ones(np.max(carto)-1)\n",
    "for i in range (1,np.max(carto)):\n",
    "    maskD=Dcalc[carto==i]\n",
    "    Dfinal[i-1]=np.nanmean(maskD)"
   ]
  },
  {
   "cell_type": "code",
   "execution_count": null,
   "metadata": {},
   "outputs": [],
   "source": [
    "Dfinal"
   ]
  },
  {
   "cell_type": "code",
   "execution_count": null,
   "metadata": {},
   "outputs": [],
   "source": [
    "carto"
   ]
  },
  {
   "cell_type": "code",
   "execution_count": null,
   "metadata": {
    "collapsed": true
   },
   "outputs": [],
   "source": [
    "BulkQuant=np.empty([len(s.metadata.Sample.elements)])\n",
    "for i in range (0,np.max(carto)-1):        \n",
    "    for k in range (0,len(s.metadata.Sample.elements)):\n",
    "        BulkQuant[k]+=(AMfinal[i]*Dfinal[i]/np.mean(Dfinal))*Elmt[i][k]"
   ]
  },
  {
   "cell_type": "code",
   "execution_count": null,
   "metadata": {},
   "outputs": [],
   "source": [
    "print('|-----------------------------|')\n",
    "print('|     Weight compositions     |')\n",
    "print('|-----------------------------|')\n",
    "\n",
    "print('| Elements     |   Qti in Wt% |')\n",
    "print('|---------- -- |-- -----------|')\n",
    "print('| Al (Wt. %)   |     {:.2f}     |'.format(BulkQuant[0]))\n",
    "print('| C  (Wt. %)   |     {:.2f}     |'.format(BulkQuant[1]))\n",
    "print('| Ca (Wt. %)   |     {:.2f}     |'.format(BulkQuant[2]))\n",
    "print('| Fe (Wt. %)   |     {:.2f}    |'.format(BulkQuant[3]))\n",
    "print('| Mg (Wt. %)   |     {:.2f}    |'.format(BulkQuant[4]))\n",
    "print('| Na (Wt. %)   |     {:.2f}     |'.format(BulkQuant[5]))\n",
    "print('| Ni (Wt. %)   |     {:.2f}     |'.format(BulkQuant[6]))\n",
    "print('| O  (Wt. %)   |     {:.2f}    |'.format(BulkQuant[7]))\n",
    "print('| S  (Wt. %)   |     {:.2f}    |'.format(BulkQuant[8]))\n",
    "print('| Si (Wt. %)   |     {:.2f}    |'.format(BulkQuant[9]))\n",
    "print('|-----------  -|---- ---------|')"
   ]
  },
  {
   "cell_type": "code",
   "execution_count": null,
   "metadata": {},
   "outputs": [],
   "source": [
    "s.metadata"
   ]
  },
  {
   "cell_type": "code",
   "execution_count": null,
   "metadata": {},
   "outputs": [],
   "source": [
    "Dfinal[10]"
   ]
  },
  {
   "cell_type": "code",
   "execution_count": null,
   "metadata": {
    "collapsed": true
   },
   "outputs": [],
   "source": [
    "(['Metal Grain','Olivine','Pyroxene','Fe-rich sulfides','Epoxy','Pentlandite','Mg-rich phyll/amorph','Fe-rich phyll/amorph','Carbonates'\n",
    ",'Spinel','sulfates','Olivine (Fo<90)'])"
   ]
  },
  {
   "cell_type": "code",
   "execution_count": null,
   "metadata": {
    "collapsed": true
   },
   "outputs": [],
   "source": [
    "whos"
   ]
  }
 ],
 "metadata": {
  "kernelspec": {
   "display_name": "Python 3",
   "language": "python",
   "name": "python3"
  },
  "language_info": {
   "codemirror_mode": {
    "name": "ipython",
    "version": 3
   },
   "file_extension": ".py",
   "mimetype": "text/x-python",
   "name": "python",
   "nbconvert_exporter": "python",
   "pygments_lexer": "ipython3",
   "version": "3.5.5"
  }
 },
 "nbformat": 4,
 "nbformat_minor": 1
}
