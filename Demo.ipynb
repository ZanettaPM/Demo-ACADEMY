{
 "cells": [
  {
   "cell_type": "code",
   "execution_count": 1,
   "metadata": {
    "collapsed": true
   },
   "outputs": [],
   "source": [
    "# Here is an example of what it is possible to do using the ACADEMY methodology. \n",
    "\n",
    "\n",
    "# For more informations please read Zanetta et al,. 2018 \n",
    "# Don't hesitate to contact the author via Github or directly by email."
   ]
  },
  {
   "cell_type": "code",
   "execution_count": 3,
   "metadata": {},
   "outputs": [
    {
     "name": "stderr",
     "output_type": "stream",
     "text": [
      "WARNING:hyperspy.api:The traitsui GUI elements are not available, probably because the hyperspy_gui_traitui package is not installed.\n"
     ]
    }
   ],
   "source": [
    "# We first import the different pacakges necessary to run the whole code\n",
    "%matplotlib qt\n",
    "import numpy as np\n",
    "import matplotlib.pyplot as plt\n",
    "import hyperspy.api as hs # this version of hyperspy has merged the Pull request #1835 and #1462"
   ]
  },
  {
   "cell_type": "code",
   "execution_count": 4,
   "metadata": {},
   "outputs": [
    {
     "data": {
      "text/plain": [
       "<EDSSEMSpectrum, title: Map Sum Spectrum, dimensions: (97, 110|512)>"
      ]
     },
     "execution_count": 4,
     "metadata": {},
     "output_type": "execute_result"
    }
   ],
   "source": [
    "s=hs.load(\"data.hspy\") # We load a cropped section of the raw data of the zone 2 of the Paris meteorite presented in the paper.\n",
    "s"
   ]
  },
  {
   "cell_type": "code",
   "execution_count": 5,
   "metadata": {
    "collapsed": true
   },
   "outputs": [],
   "source": [
    "s.plot(True) # We plot the hyperspectral signal and the different X-ray lines.\n",
    "             # The signal have been calibrated in energy beforehand"
   ]
  },
  {
   "cell_type": "code",
   "execution_count": 6,
   "metadata": {
    "collapsed": true
   },
   "outputs": [],
   "source": [
    "carto=hs.load('cartography.hspy')"
   ]
  },
  {
   "cell_type": "code",
   "execution_count": 25,
   "metadata": {
    "collapsed": true
   },
   "outputs": [],
   "source": [
    "s.change_dtype('float')"
   ]
  },
  {
   "cell_type": "code",
   "execution_count": 26,
   "metadata": {
    "collapsed": true
   },
   "outputs": [],
   "source": [
    "s.decomposition('nmf')"
   ]
  },
  {
   "cell_type": "code",
   "execution_count": 9,
   "metadata": {},
   "outputs": [
    {
     "data": {
      "text/plain": [
       "<matplotlib.axes._subplots.AxesSubplot at 0x17738d68>"
      ]
     },
     "execution_count": 9,
     "metadata": {},
     "output_type": "execute_result"
    }
   ],
   "source": [
    "s.plot_cumulative_explained_variance_ratio()"
   ]
  },
  {
   "cell_type": "code",
   "execution_count": 10,
   "metadata": {
    "collapsed": true
   },
   "outputs": [],
   "source": [
    "s.blind_source_separation(8)"
   ]
  },
  {
   "cell_type": "code",
   "execution_count": 27,
   "metadata": {
    "collapsed": true
   },
   "outputs": [],
   "source": [
    "a=s.get_decomposition_loadings()"
   ]
  },
  {
   "cell_type": "code",
   "execution_count": 11,
   "metadata": {
    "collapsed": true
   },
   "outputs": [],
   "source": [
    "a=s.get_decomposition_factors()"
   ]
  },
  {
   "cell_type": "code",
   "execution_count": 28,
   "metadata": {
    "collapsed": true
   },
   "outputs": [],
   "source": [
    "a.plot()"
   ]
  },
  {
   "cell_type": "code",
   "execution_count": 38,
   "metadata": {},
   "outputs": [],
   "source": [
    "d=np.ones([110,97,6])\n",
    "for i in range (0,5):\n",
    "    b=a.data[i]/np.max(a.data[i])\n",
    "    c=b>0.90\n",
    "    d[:,:,1]=c*i"
   ]
  },
  {
   "cell_type": "code",
   "execution_count": 39,
   "metadata": {
    "collapsed": true
   },
   "outputs": [],
   "source": [
    "d=hs.signals.EDSSEMSpectrum(d)"
   ]
  },
  {
   "cell_type": "code",
   "execution_count": 40,
   "metadata": {},
   "outputs": [
    {
     "data": {
      "text/plain": [
       "<EDSSEMSpectrum, title: , dimensions: (6, 97|110)>"
      ]
     },
     "execution_count": 40,
     "metadata": {},
     "output_type": "execute_result"
    }
   ],
   "source": [
    "d.as_signal1D(1)"
   ]
  },
  {
   "cell_type": "code",
   "execution_count": 41,
   "metadata": {
    "collapsed": true
   },
   "outputs": [],
   "source": [
    "d.plot()"
   ]
  },
  {
   "cell_type": "code",
   "execution_count": 33,
   "metadata": {},
   "outputs": [
    {
     "data": {
      "text/plain": [
       "512"
      ]
     },
     "execution_count": 33,
     "metadata": {},
     "output_type": "execute_result"
    }
   ],
   "source": [
    "len(a)"
   ]
  },
  {
   "cell_type": "code",
   "execution_count": 34,
   "metadata": {
    "collapsed": true
   },
   "outputs": [],
   "source": [
    "e=a.data[0]/np.max(a.data[0])"
   ]
  },
  {
   "cell_type": "code",
   "execution_count": 217,
   "metadata": {
    "collapsed": true
   },
   "outputs": [],
   "source": [
    "s.plot()"
   ]
  },
  {
   "cell_type": "code",
   "execution_count": 35,
   "metadata": {},
   "outputs": [
    {
     "ename": "TypeError",
     "evalue": "Invalid dimensions for image data",
     "output_type": "error",
     "traceback": [
      "\u001b[1;31m---------------------------------------------------------------------------\u001b[0m",
      "\u001b[1;31mTypeError\u001b[0m                                 Traceback (most recent call last)",
      "\u001b[1;32m<ipython-input-35-97704a2b2351>\u001b[0m in \u001b[0;36m<module>\u001b[1;34m()\u001b[0m\n\u001b[1;32m----> 1\u001b[1;33m \u001b[0mplt\u001b[0m\u001b[1;33m.\u001b[0m\u001b[0mimshow\u001b[0m\u001b[1;33m(\u001b[0m\u001b[0md\u001b[0m\u001b[1;33m,\u001b[0m\u001b[0mcmap\u001b[0m\u001b[1;33m=\u001b[0m\u001b[1;34m'jet'\u001b[0m\u001b[1;33m)\u001b[0m\u001b[1;33m\u001b[0m\u001b[0m\n\u001b[0m",
      "\u001b[1;32mC:\\Anaconda3\\lib\\site-packages\\matplotlib\\pyplot.py\u001b[0m in \u001b[0;36mimshow\u001b[1;34m(X, cmap, norm, aspect, interpolation, alpha, vmin, vmax, origin, extent, shape, filternorm, filterrad, imlim, resample, url, hold, data, **kwargs)\u001b[0m\n\u001b[0;32m   3208\u001b[0m                         \u001b[0mfilternorm\u001b[0m\u001b[1;33m=\u001b[0m\u001b[0mfilternorm\u001b[0m\u001b[1;33m,\u001b[0m \u001b[0mfilterrad\u001b[0m\u001b[1;33m=\u001b[0m\u001b[0mfilterrad\u001b[0m\u001b[1;33m,\u001b[0m\u001b[1;33m\u001b[0m\u001b[0m\n\u001b[0;32m   3209\u001b[0m                         \u001b[0mimlim\u001b[0m\u001b[1;33m=\u001b[0m\u001b[0mimlim\u001b[0m\u001b[1;33m,\u001b[0m \u001b[0mresample\u001b[0m\u001b[1;33m=\u001b[0m\u001b[0mresample\u001b[0m\u001b[1;33m,\u001b[0m \u001b[0murl\u001b[0m\u001b[1;33m=\u001b[0m\u001b[0murl\u001b[0m\u001b[1;33m,\u001b[0m \u001b[0mdata\u001b[0m\u001b[1;33m=\u001b[0m\u001b[0mdata\u001b[0m\u001b[1;33m,\u001b[0m\u001b[1;33m\u001b[0m\u001b[0m\n\u001b[1;32m-> 3210\u001b[1;33m                         **kwargs)\n\u001b[0m\u001b[0;32m   3211\u001b[0m     \u001b[1;32mfinally\u001b[0m\u001b[1;33m:\u001b[0m\u001b[1;33m\u001b[0m\u001b[0m\n\u001b[0;32m   3212\u001b[0m         \u001b[0max\u001b[0m\u001b[1;33m.\u001b[0m\u001b[0m_hold\u001b[0m \u001b[1;33m=\u001b[0m \u001b[0mwashold\u001b[0m\u001b[1;33m\u001b[0m\u001b[0m\n",
      "\u001b[1;32mC:\\Anaconda3\\lib\\site-packages\\matplotlib\\__init__.py\u001b[0m in \u001b[0;36minner\u001b[1;34m(ax, *args, **kwargs)\u001b[0m\n\u001b[0;32m   1865\u001b[0m                         \u001b[1;34m\"the Matplotlib list!)\"\u001b[0m \u001b[1;33m%\u001b[0m \u001b[1;33m(\u001b[0m\u001b[0mlabel_namer\u001b[0m\u001b[1;33m,\u001b[0m \u001b[0mfunc\u001b[0m\u001b[1;33m.\u001b[0m\u001b[0m__name__\u001b[0m\u001b[1;33m)\u001b[0m\u001b[1;33m,\u001b[0m\u001b[1;33m\u001b[0m\u001b[0m\n\u001b[0;32m   1866\u001b[0m                         RuntimeWarning, stacklevel=2)\n\u001b[1;32m-> 1867\u001b[1;33m             \u001b[1;32mreturn\u001b[0m \u001b[0mfunc\u001b[0m\u001b[1;33m(\u001b[0m\u001b[0max\u001b[0m\u001b[1;33m,\u001b[0m \u001b[1;33m*\u001b[0m\u001b[0margs\u001b[0m\u001b[1;33m,\u001b[0m \u001b[1;33m**\u001b[0m\u001b[0mkwargs\u001b[0m\u001b[1;33m)\u001b[0m\u001b[1;33m\u001b[0m\u001b[0m\n\u001b[0m\u001b[0;32m   1868\u001b[0m \u001b[1;33m\u001b[0m\u001b[0m\n\u001b[0;32m   1869\u001b[0m         inner.__doc__ = _add_data_doc(inner.__doc__,\n",
      "\u001b[1;32mC:\\Anaconda3\\lib\\site-packages\\matplotlib\\axes\\_axes.py\u001b[0m in \u001b[0;36mimshow\u001b[1;34m(self, X, cmap, norm, aspect, interpolation, alpha, vmin, vmax, origin, extent, shape, filternorm, filterrad, imlim, resample, url, **kwargs)\u001b[0m\n\u001b[0;32m   5499\u001b[0m                               resample=resample, **kwargs)\n\u001b[0;32m   5500\u001b[0m \u001b[1;33m\u001b[0m\u001b[0m\n\u001b[1;32m-> 5501\u001b[1;33m         \u001b[0mim\u001b[0m\u001b[1;33m.\u001b[0m\u001b[0mset_data\u001b[0m\u001b[1;33m(\u001b[0m\u001b[0mX\u001b[0m\u001b[1;33m)\u001b[0m\u001b[1;33m\u001b[0m\u001b[0m\n\u001b[0m\u001b[0;32m   5502\u001b[0m         \u001b[0mim\u001b[0m\u001b[1;33m.\u001b[0m\u001b[0mset_alpha\u001b[0m\u001b[1;33m(\u001b[0m\u001b[0malpha\u001b[0m\u001b[1;33m)\u001b[0m\u001b[1;33m\u001b[0m\u001b[0m\n\u001b[0;32m   5503\u001b[0m         \u001b[1;32mif\u001b[0m \u001b[0mim\u001b[0m\u001b[1;33m.\u001b[0m\u001b[0mget_clip_path\u001b[0m\u001b[1;33m(\u001b[0m\u001b[1;33m)\u001b[0m \u001b[1;32mis\u001b[0m \u001b[1;32mNone\u001b[0m\u001b[1;33m:\u001b[0m\u001b[1;33m\u001b[0m\u001b[0m\n",
      "\u001b[1;32mC:\\Anaconda3\\lib\\site-packages\\matplotlib\\image.py\u001b[0m in \u001b[0;36mset_data\u001b[1;34m(self, A)\u001b[0m\n\u001b[0;32m    652\u001b[0m         if not (self._A.ndim == 2\n\u001b[0;32m    653\u001b[0m                 or self._A.ndim == 3 and self._A.shape[-1] in [3, 4]):\n\u001b[1;32m--> 654\u001b[1;33m             \u001b[1;32mraise\u001b[0m \u001b[0mTypeError\u001b[0m\u001b[1;33m(\u001b[0m\u001b[1;34m\"Invalid dimensions for image data\"\u001b[0m\u001b[1;33m)\u001b[0m\u001b[1;33m\u001b[0m\u001b[0m\n\u001b[0m\u001b[0;32m    655\u001b[0m \u001b[1;33m\u001b[0m\u001b[0m\n\u001b[0;32m    656\u001b[0m         \u001b[1;32mif\u001b[0m \u001b[0mself\u001b[0m\u001b[1;33m.\u001b[0m\u001b[0m_A\u001b[0m\u001b[1;33m.\u001b[0m\u001b[0mndim\u001b[0m \u001b[1;33m==\u001b[0m \u001b[1;36m3\u001b[0m\u001b[1;33m:\u001b[0m\u001b[1;33m\u001b[0m\u001b[0m\n",
      "\u001b[1;31mTypeError\u001b[0m: Invalid dimensions for image data"
     ]
    }
   ],
   "source": [
    "plt.imshow(d,cmap='jet')"
   ]
  },
  {
   "cell_type": "code",
   "execution_count": 42,
   "metadata": {
    "collapsed": true
   },
   "outputs": [],
   "source": [
    "for i in range (0,6):\n",
    "    b=a.data[i]/np.max(a.data[i])\n",
    "    plt.figure()\n",
    "    plt.imshow(b,cmap='jet')"
   ]
  },
  {
   "cell_type": "code",
   "execution_count": 43,
   "metadata": {},
   "outputs": [
    {
     "data": {
      "text/plain": [
       "array([[False, False, False, ..., False, False, False],\n",
       "       [False, False, False, ..., False, False, False],\n",
       "       [False, False, False, ..., False, False, False],\n",
       "       ..., \n",
       "       [False, False, False, ..., False, False, False],\n",
       "       [False, False, False, ..., False, False, False],\n",
       "       [False, False, False, ..., False, False, False]], dtype=bool)"
      ]
     },
     "execution_count": 43,
     "metadata": {},
     "output_type": "execute_result"
    }
   ],
   "source": [
    "b>0.9"
   ]
  },
  {
   "cell_type": "code",
   "execution_count": 44,
   "metadata": {},
   "outputs": [
    {
     "data": {
      "text/plain": [
       "(110, 97)"
      ]
     },
     "execution_count": 44,
     "metadata": {},
     "output_type": "execute_result"
    }
   ],
   "source": [
    "np.shape(b)"
   ]
  },
  {
   "cell_type": "code",
   "execution_count": 45,
   "metadata": {
    "collapsed": true
   },
   "outputs": [],
   "source": [
    "m=s.create_model(False,False)"
   ]
  },
  {
   "cell_type": "code",
   "execution_count": 46,
   "metadata": {
    "collapsed": true
   },
   "outputs": [],
   "source": [
    "for i in range (0,len(a)):\n",
    "    g=hs.model.components1D.ScalableFixedPattern(hs.signals.EDSSEMSpectrum(a.data[i]))\n",
    "    m.extend([g])"
   ]
  },
  {
   "cell_type": "code",
   "execution_count": 47,
   "metadata": {},
   "outputs": [
    {
     "data": {
      "text/plain": [
       "   # |      Attribute Name |      Component Name |      Component Type\n",
       "---- | ------------------- | ------------------- | -------------------\n",
       "   0 | ScalableFixedPatt.. | ScalableFixedPatt.. | ScalableFixedPatt..\n",
       "   1 | ScalableFixedPatt.. | ScalableFixedPatt.. | ScalableFixedPatt..\n",
       "   2 | ScalableFixedPatt.. | ScalableFixedPatt.. | ScalableFixedPatt..\n",
       "   3 | ScalableFixedPatt.. | ScalableFixedPatt.. | ScalableFixedPatt..\n",
       "   4 | ScalableFixedPatt.. | ScalableFixedPatt.. | ScalableFixedPatt..\n",
       "   5 | ScalableFixedPatt.. | ScalableFixedPatt.. | ScalableFixedPatt..\n",
       "   6 | ScalableFixedPatt.. | ScalableFixedPatt.. | ScalableFixedPatt..\n",
       "   7 | ScalableFixedPatt.. | ScalableFixedPatt.. | ScalableFixedPatt..\n",
       "   8 | ScalableFixedPatt.. | ScalableFixedPatt.. | ScalableFixedPatt..\n",
       "   9 | ScalableFixedPatt.. | ScalableFixedPatt.. | ScalableFixedPatt..\n",
       "  10 | ScalableFixedPatt.. | ScalableFixedPatt.. | ScalableFixedPatt..\n",
       "  11 | ScalableFixedPatt.. | ScalableFixedPatt.. | ScalableFixedPatt..\n",
       "  12 | ScalableFixedPatt.. | ScalableFixedPatt.. | ScalableFixedPatt..\n",
       "  13 | ScalableFixedPatt.. | ScalableFixedPatt.. | ScalableFixedPatt..\n",
       "  14 | ScalableFixedPatt.. | ScalableFixedPatt.. | ScalableFixedPatt..\n",
       "  15 | ScalableFixedPatt.. | ScalableFixedPatt.. | ScalableFixedPatt..\n",
       "  16 | ScalableFixedPatt.. | ScalableFixedPatt.. | ScalableFixedPatt..\n",
       "  17 | ScalableFixedPatt.. | ScalableFixedPatt.. | ScalableFixedPatt..\n",
       "  18 | ScalableFixedPatt.. | ScalableFixedPatt.. | ScalableFixedPatt..\n",
       "  19 | ScalableFixedPatt.. | ScalableFixedPatt.. | ScalableFixedPatt..\n",
       "  20 | ScalableFixedPatt.. | ScalableFixedPatt.. | ScalableFixedPatt..\n",
       "  21 | ScalableFixedPatt.. | ScalableFixedPatt.. | ScalableFixedPatt..\n",
       "  22 | ScalableFixedPatt.. | ScalableFixedPatt.. | ScalableFixedPatt..\n",
       "  23 | ScalableFixedPatt.. | ScalableFixedPatt.. | ScalableFixedPatt..\n",
       "  24 | ScalableFixedPatt.. | ScalableFixedPatt.. | ScalableFixedPatt..\n",
       "  25 | ScalableFixedPatt.. | ScalableFixedPatt.. | ScalableFixedPatt..\n",
       "  26 | ScalableFixedPatt.. | ScalableFixedPatt.. | ScalableFixedPatt..\n",
       "  27 | ScalableFixedPatt.. | ScalableFixedPatt.. | ScalableFixedPatt..\n",
       "  28 | ScalableFixedPatt.. | ScalableFixedPatt.. | ScalableFixedPatt..\n",
       "  29 | ScalableFixedPatt.. | ScalableFixedPatt.. | ScalableFixedPatt..\n",
       "  30 | ScalableFixedPatt.. | ScalableFixedPatt.. | ScalableFixedPatt..\n",
       "  31 | ScalableFixedPatt.. | ScalableFixedPatt.. | ScalableFixedPatt..\n",
       "  32 | ScalableFixedPatt.. | ScalableFixedPatt.. | ScalableFixedPatt..\n",
       "  33 | ScalableFixedPatt.. | ScalableFixedPatt.. | ScalableFixedPatt..\n",
       "  34 | ScalableFixedPatt.. | ScalableFixedPatt.. | ScalableFixedPatt..\n",
       "  35 | ScalableFixedPatt.. | ScalableFixedPatt.. | ScalableFixedPatt..\n",
       "  36 | ScalableFixedPatt.. | ScalableFixedPatt.. | ScalableFixedPatt..\n",
       "  37 | ScalableFixedPatt.. | ScalableFixedPatt.. | ScalableFixedPatt..\n",
       "  38 | ScalableFixedPatt.. | ScalableFixedPatt.. | ScalableFixedPatt..\n",
       "  39 | ScalableFixedPatt.. | ScalableFixedPatt.. | ScalableFixedPatt..\n",
       "  40 | ScalableFixedPatt.. | ScalableFixedPatt.. | ScalableFixedPatt..\n",
       "  41 | ScalableFixedPatt.. | ScalableFixedPatt.. | ScalableFixedPatt..\n",
       "  42 | ScalableFixedPatt.. | ScalableFixedPatt.. | ScalableFixedPatt..\n",
       "  43 | ScalableFixedPatt.. | ScalableFixedPatt.. | ScalableFixedPatt..\n",
       "  44 | ScalableFixedPatt.. | ScalableFixedPatt.. | ScalableFixedPatt..\n",
       "  45 | ScalableFixedPatt.. | ScalableFixedPatt.. | ScalableFixedPatt..\n",
       "  46 | ScalableFixedPatt.. | ScalableFixedPatt.. | ScalableFixedPatt..\n",
       "  47 | ScalableFixedPatt.. | ScalableFixedPatt.. | ScalableFixedPatt..\n",
       "  48 | ScalableFixedPatt.. | ScalableFixedPatt.. | ScalableFixedPatt..\n",
       "  49 | ScalableFixedPatt.. | ScalableFixedPatt.. | ScalableFixedPatt..\n",
       "  50 | ScalableFixedPatt.. | ScalableFixedPatt.. | ScalableFixedPatt..\n",
       "  51 | ScalableFixedPatt.. | ScalableFixedPatt.. | ScalableFixedPatt..\n",
       "  52 | ScalableFixedPatt.. | ScalableFixedPatt.. | ScalableFixedPatt..\n",
       "  53 | ScalableFixedPatt.. | ScalableFixedPatt.. | ScalableFixedPatt..\n",
       "  54 | ScalableFixedPatt.. | ScalableFixedPatt.. | ScalableFixedPatt..\n",
       "  55 | ScalableFixedPatt.. | ScalableFixedPatt.. | ScalableFixedPatt..\n",
       "  56 | ScalableFixedPatt.. | ScalableFixedPatt.. | ScalableFixedPatt..\n",
       "  57 | ScalableFixedPatt.. | ScalableFixedPatt.. | ScalableFixedPatt..\n",
       "  58 | ScalableFixedPatt.. | ScalableFixedPatt.. | ScalableFixedPatt..\n",
       "  59 | ScalableFixedPatt.. | ScalableFixedPatt.. | ScalableFixedPatt..\n",
       "  60 | ScalableFixedPatt.. | ScalableFixedPatt.. | ScalableFixedPatt..\n",
       "  61 | ScalableFixedPatt.. | ScalableFixedPatt.. | ScalableFixedPatt..\n",
       "  62 | ScalableFixedPatt.. | ScalableFixedPatt.. | ScalableFixedPatt..\n",
       "  63 | ScalableFixedPatt.. | ScalableFixedPatt.. | ScalableFixedPatt..\n",
       "  64 | ScalableFixedPatt.. | ScalableFixedPatt.. | ScalableFixedPatt..\n",
       "  65 | ScalableFixedPatt.. | ScalableFixedPatt.. | ScalableFixedPatt..\n",
       "  66 | ScalableFixedPatt.. | ScalableFixedPatt.. | ScalableFixedPatt..\n",
       "  67 | ScalableFixedPatt.. | ScalableFixedPatt.. | ScalableFixedPatt..\n",
       "  68 | ScalableFixedPatt.. | ScalableFixedPatt.. | ScalableFixedPatt..\n",
       "  69 | ScalableFixedPatt.. | ScalableFixedPatt.. | ScalableFixedPatt..\n",
       "  70 | ScalableFixedPatt.. | ScalableFixedPatt.. | ScalableFixedPatt..\n",
       "  71 | ScalableFixedPatt.. | ScalableFixedPatt.. | ScalableFixedPatt..\n",
       "  72 | ScalableFixedPatt.. | ScalableFixedPatt.. | ScalableFixedPatt..\n",
       "  73 | ScalableFixedPatt.. | ScalableFixedPatt.. | ScalableFixedPatt..\n",
       "  74 | ScalableFixedPatt.. | ScalableFixedPatt.. | ScalableFixedPatt..\n",
       "  75 | ScalableFixedPatt.. | ScalableFixedPatt.. | ScalableFixedPatt..\n",
       "  76 | ScalableFixedPatt.. | ScalableFixedPatt.. | ScalableFixedPatt..\n",
       "  77 | ScalableFixedPatt.. | ScalableFixedPatt.. | ScalableFixedPatt..\n",
       "  78 | ScalableFixedPatt.. | ScalableFixedPatt.. | ScalableFixedPatt..\n",
       "  79 | ScalableFixedPatt.. | ScalableFixedPatt.. | ScalableFixedPatt..\n",
       "  80 | ScalableFixedPatt.. | ScalableFixedPatt.. | ScalableFixedPatt..\n",
       "  81 | ScalableFixedPatt.. | ScalableFixedPatt.. | ScalableFixedPatt..\n",
       "  82 | ScalableFixedPatt.. | ScalableFixedPatt.. | ScalableFixedPatt..\n",
       "  83 | ScalableFixedPatt.. | ScalableFixedPatt.. | ScalableFixedPatt..\n",
       "  84 | ScalableFixedPatt.. | ScalableFixedPatt.. | ScalableFixedPatt..\n",
       "  85 | ScalableFixedPatt.. | ScalableFixedPatt.. | ScalableFixedPatt..\n",
       "  86 | ScalableFixedPatt.. | ScalableFixedPatt.. | ScalableFixedPatt..\n",
       "  87 | ScalableFixedPatt.. | ScalableFixedPatt.. | ScalableFixedPatt..\n",
       "  88 | ScalableFixedPatt.. | ScalableFixedPatt.. | ScalableFixedPatt..\n",
       "  89 | ScalableFixedPatt.. | ScalableFixedPatt.. | ScalableFixedPatt..\n",
       "  90 | ScalableFixedPatt.. | ScalableFixedPatt.. | ScalableFixedPatt..\n",
       "  91 | ScalableFixedPatt.. | ScalableFixedPatt.. | ScalableFixedPatt..\n",
       "  92 | ScalableFixedPatt.. | ScalableFixedPatt.. | ScalableFixedPatt..\n",
       "  93 | ScalableFixedPatt.. | ScalableFixedPatt.. | ScalableFixedPatt..\n",
       "  94 | ScalableFixedPatt.. | ScalableFixedPatt.. | ScalableFixedPatt..\n",
       "  95 | ScalableFixedPatt.. | ScalableFixedPatt.. | ScalableFixedPatt..\n",
       "  96 | ScalableFixedPatt.. | ScalableFixedPatt.. | ScalableFixedPatt..\n",
       "  97 | ScalableFixedPatt.. | ScalableFixedPatt.. | ScalableFixedPatt..\n",
       "  98 | ScalableFixedPatt.. | ScalableFixedPatt.. | ScalableFixedPatt..\n",
       "  99 | ScalableFixedPatt.. | ScalableFixedPatt.. | ScalableFixedPatt..\n",
       " 100 | ScalableFixedPatt.. | ScalableFixedPatt.. | ScalableFixedPatt..\n",
       " 101 | ScalableFixedPatt.. | ScalableFixedPatt.. | ScalableFixedPatt..\n",
       " 102 | ScalableFixedPatt.. | ScalableFixedPatt.. | ScalableFixedPatt..\n",
       " 103 | ScalableFixedPatt.. | ScalableFixedPatt.. | ScalableFixedPatt..\n",
       " 104 | ScalableFixedPatt.. | ScalableFixedPatt.. | ScalableFixedPatt..\n",
       " 105 | ScalableFixedPatt.. | ScalableFixedPatt.. | ScalableFixedPatt..\n",
       " 106 | ScalableFixedPatt.. | ScalableFixedPatt.. | ScalableFixedPatt..\n",
       " 107 | ScalableFixedPatt.. | ScalableFixedPatt.. | ScalableFixedPatt..\n",
       " 108 | ScalableFixedPatt.. | ScalableFixedPatt.. | ScalableFixedPatt..\n",
       " 109 | ScalableFixedPatt.. | ScalableFixedPatt.. | ScalableFixedPatt..\n",
       " 110 | ScalableFixedPatt.. | ScalableFixedPatt.. | ScalableFixedPatt..\n",
       " 111 | ScalableFixedPatt.. | ScalableFixedPatt.. | ScalableFixedPatt..\n",
       " 112 | ScalableFixedPatt.. | ScalableFixedPatt.. | ScalableFixedPatt..\n",
       " 113 | ScalableFixedPatt.. | ScalableFixedPatt.. | ScalableFixedPatt..\n",
       " 114 | ScalableFixedPatt.. | ScalableFixedPatt.. | ScalableFixedPatt..\n",
       " 115 | ScalableFixedPatt.. | ScalableFixedPatt.. | ScalableFixedPatt..\n",
       " 116 | ScalableFixedPatt.. | ScalableFixedPatt.. | ScalableFixedPatt..\n",
       " 117 | ScalableFixedPatt.. | ScalableFixedPatt.. | ScalableFixedPatt..\n",
       " 118 | ScalableFixedPatt.. | ScalableFixedPatt.. | ScalableFixedPatt..\n",
       " 119 | ScalableFixedPatt.. | ScalableFixedPatt.. | ScalableFixedPatt..\n",
       " 120 | ScalableFixedPatt.. | ScalableFixedPatt.. | ScalableFixedPatt..\n",
       " 121 | ScalableFixedPatt.. | ScalableFixedPatt.. | ScalableFixedPatt..\n",
       " 122 | ScalableFixedPatt.. | ScalableFixedPatt.. | ScalableFixedPatt..\n",
       " 123 | ScalableFixedPatt.. | ScalableFixedPatt.. | ScalableFixedPatt..\n",
       " 124 | ScalableFixedPatt.. | ScalableFixedPatt.. | ScalableFixedPatt..\n",
       " 125 | ScalableFixedPatt.. | ScalableFixedPatt.. | ScalableFixedPatt..\n",
       " 126 | ScalableFixedPatt.. | ScalableFixedPatt.. | ScalableFixedPatt..\n",
       " 127 | ScalableFixedPatt.. | ScalableFixedPatt.. | ScalableFixedPatt..\n",
       " 128 | ScalableFixedPatt.. | ScalableFixedPatt.. | ScalableFixedPatt..\n",
       " 129 | ScalableFixedPatt.. | ScalableFixedPatt.. | ScalableFixedPatt..\n",
       " 130 | ScalableFixedPatt.. | ScalableFixedPatt.. | ScalableFixedPatt..\n",
       " 131 | ScalableFixedPatt.. | ScalableFixedPatt.. | ScalableFixedPatt..\n",
       " 132 | ScalableFixedPatt.. | ScalableFixedPatt.. | ScalableFixedPatt..\n",
       " 133 | ScalableFixedPatt.. | ScalableFixedPatt.. | ScalableFixedPatt..\n",
       " 134 | ScalableFixedPatt.. | ScalableFixedPatt.. | ScalableFixedPatt..\n",
       " 135 | ScalableFixedPatt.. | ScalableFixedPatt.. | ScalableFixedPatt..\n",
       " 136 | ScalableFixedPatt.. | ScalableFixedPatt.. | ScalableFixedPatt..\n",
       " 137 | ScalableFixedPatt.. | ScalableFixedPatt.. | ScalableFixedPatt..\n",
       " 138 | ScalableFixedPatt.. | ScalableFixedPatt.. | ScalableFixedPatt..\n",
       " 139 | ScalableFixedPatt.. | ScalableFixedPatt.. | ScalableFixedPatt..\n",
       " 140 | ScalableFixedPatt.. | ScalableFixedPatt.. | ScalableFixedPatt..\n",
       " 141 | ScalableFixedPatt.. | ScalableFixedPatt.. | ScalableFixedPatt..\n",
       " 142 | ScalableFixedPatt.. | ScalableFixedPatt.. | ScalableFixedPatt..\n",
       " 143 | ScalableFixedPatt.. | ScalableFixedPatt.. | ScalableFixedPatt..\n",
       " 144 | ScalableFixedPatt.. | ScalableFixedPatt.. | ScalableFixedPatt..\n",
       " 145 | ScalableFixedPatt.. | ScalableFixedPatt.. | ScalableFixedPatt..\n",
       " 146 | ScalableFixedPatt.. | ScalableFixedPatt.. | ScalableFixedPatt..\n",
       " 147 | ScalableFixedPatt.. | ScalableFixedPatt.. | ScalableFixedPatt..\n",
       " 148 | ScalableFixedPatt.. | ScalableFixedPatt.. | ScalableFixedPatt..\n",
       " 149 | ScalableFixedPatt.. | ScalableFixedPatt.. | ScalableFixedPatt..\n",
       " 150 | ScalableFixedPatt.. | ScalableFixedPatt.. | ScalableFixedPatt..\n",
       " 151 | ScalableFixedPatt.. | ScalableFixedPatt.. | ScalableFixedPatt..\n",
       " 152 | ScalableFixedPatt.. | ScalableFixedPatt.. | ScalableFixedPatt..\n",
       " 153 | ScalableFixedPatt.. | ScalableFixedPatt.. | ScalableFixedPatt..\n",
       " 154 | ScalableFixedPatt.. | ScalableFixedPatt.. | ScalableFixedPatt..\n",
       " 155 | ScalableFixedPatt.. | ScalableFixedPatt.. | ScalableFixedPatt..\n",
       " 156 | ScalableFixedPatt.. | ScalableFixedPatt.. | ScalableFixedPatt..\n",
       " 157 | ScalableFixedPatt.. | ScalableFixedPatt.. | ScalableFixedPatt..\n",
       " 158 | ScalableFixedPatt.. | ScalableFixedPatt.. | ScalableFixedPatt..\n",
       " 159 | ScalableFixedPatt.. | ScalableFixedPatt.. | ScalableFixedPatt..\n",
       " 160 | ScalableFixedPatt.. | ScalableFixedPatt.. | ScalableFixedPatt..\n",
       " 161 | ScalableFixedPatt.. | ScalableFixedPatt.. | ScalableFixedPatt..\n",
       " 162 | ScalableFixedPatt.. | ScalableFixedPatt.. | ScalableFixedPatt..\n",
       " 163 | ScalableFixedPatt.. | ScalableFixedPatt.. | ScalableFixedPatt..\n",
       " 164 | ScalableFixedPatt.. | ScalableFixedPatt.. | ScalableFixedPatt..\n",
       " 165 | ScalableFixedPatt.. | ScalableFixedPatt.. | ScalableFixedPatt..\n",
       " 166 | ScalableFixedPatt.. | ScalableFixedPatt.. | ScalableFixedPatt..\n",
       " 167 | ScalableFixedPatt.. | ScalableFixedPatt.. | ScalableFixedPatt..\n",
       " 168 | ScalableFixedPatt.. | ScalableFixedPatt.. | ScalableFixedPatt..\n",
       " 169 | ScalableFixedPatt.. | ScalableFixedPatt.. | ScalableFixedPatt..\n",
       " 170 | ScalableFixedPatt.. | ScalableFixedPatt.. | ScalableFixedPatt..\n",
       " 171 | ScalableFixedPatt.. | ScalableFixedPatt.. | ScalableFixedPatt..\n",
       " 172 | ScalableFixedPatt.. | ScalableFixedPatt.. | ScalableFixedPatt..\n",
       " 173 | ScalableFixedPatt.. | ScalableFixedPatt.. | ScalableFixedPatt..\n",
       " 174 | ScalableFixedPatt.. | ScalableFixedPatt.. | ScalableFixedPatt..\n",
       " 175 | ScalableFixedPatt.. | ScalableFixedPatt.. | ScalableFixedPatt..\n",
       " 176 | ScalableFixedPatt.. | ScalableFixedPatt.. | ScalableFixedPatt..\n",
       " 177 | ScalableFixedPatt.. | ScalableFixedPatt.. | ScalableFixedPatt..\n",
       " 178 | ScalableFixedPatt.. | ScalableFixedPatt.. | ScalableFixedPatt..\n",
       " 179 | ScalableFixedPatt.. | ScalableFixedPatt.. | ScalableFixedPatt..\n",
       " 180 | ScalableFixedPatt.. | ScalableFixedPatt.. | ScalableFixedPatt..\n",
       " 181 | ScalableFixedPatt.. | ScalableFixedPatt.. | ScalableFixedPatt..\n",
       " 182 | ScalableFixedPatt.. | ScalableFixedPatt.. | ScalableFixedPatt..\n",
       " 183 | ScalableFixedPatt.. | ScalableFixedPatt.. | ScalableFixedPatt..\n",
       " 184 | ScalableFixedPatt.. | ScalableFixedPatt.. | ScalableFixedPatt..\n",
       " 185 | ScalableFixedPatt.. | ScalableFixedPatt.. | ScalableFixedPatt..\n",
       " 186 | ScalableFixedPatt.. | ScalableFixedPatt.. | ScalableFixedPatt..\n",
       " 187 | ScalableFixedPatt.. | ScalableFixedPatt.. | ScalableFixedPatt..\n",
       " 188 | ScalableFixedPatt.. | ScalableFixedPatt.. | ScalableFixedPatt..\n",
       " 189 | ScalableFixedPatt.. | ScalableFixedPatt.. | ScalableFixedPatt..\n",
       " 190 | ScalableFixedPatt.. | ScalableFixedPatt.. | ScalableFixedPatt..\n",
       " 191 | ScalableFixedPatt.. | ScalableFixedPatt.. | ScalableFixedPatt..\n",
       " 192 | ScalableFixedPatt.. | ScalableFixedPatt.. | ScalableFixedPatt..\n",
       " 193 | ScalableFixedPatt.. | ScalableFixedPatt.. | ScalableFixedPatt..\n",
       " 194 | ScalableFixedPatt.. | ScalableFixedPatt.. | ScalableFixedPatt..\n",
       " 195 | ScalableFixedPatt.. | ScalableFixedPatt.. | ScalableFixedPatt..\n",
       " 196 | ScalableFixedPatt.. | ScalableFixedPatt.. | ScalableFixedPatt..\n",
       " 197 | ScalableFixedPatt.. | ScalableFixedPatt.. | ScalableFixedPatt..\n",
       " 198 | ScalableFixedPatt.. | ScalableFixedPatt.. | ScalableFixedPatt..\n",
       " 199 | ScalableFixedPatt.. | ScalableFixedPatt.. | ScalableFixedPatt..\n",
       " 200 | ScalableFixedPatt.. | ScalableFixedPatt.. | ScalableFixedPatt..\n",
       " 201 | ScalableFixedPatt.. | ScalableFixedPatt.. | ScalableFixedPatt..\n",
       " 202 | ScalableFixedPatt.. | ScalableFixedPatt.. | ScalableFixedPatt..\n",
       " 203 | ScalableFixedPatt.. | ScalableFixedPatt.. | ScalableFixedPatt..\n",
       " 204 | ScalableFixedPatt.. | ScalableFixedPatt.. | ScalableFixedPatt..\n",
       " 205 | ScalableFixedPatt.. | ScalableFixedPatt.. | ScalableFixedPatt..\n",
       " 206 | ScalableFixedPatt.. | ScalableFixedPatt.. | ScalableFixedPatt..\n",
       " 207 | ScalableFixedPatt.. | ScalableFixedPatt.. | ScalableFixedPatt..\n",
       " 208 | ScalableFixedPatt.. | ScalableFixedPatt.. | ScalableFixedPatt..\n",
       " 209 | ScalableFixedPatt.. | ScalableFixedPatt.. | ScalableFixedPatt..\n",
       " 210 | ScalableFixedPatt.. | ScalableFixedPatt.. | ScalableFixedPatt..\n",
       " 211 | ScalableFixedPatt.. | ScalableFixedPatt.. | ScalableFixedPatt..\n",
       " 212 | ScalableFixedPatt.. | ScalableFixedPatt.. | ScalableFixedPatt..\n",
       " 213 | ScalableFixedPatt.. | ScalableFixedPatt.. | ScalableFixedPatt..\n",
       " 214 | ScalableFixedPatt.. | ScalableFixedPatt.. | ScalableFixedPatt..\n",
       " 215 | ScalableFixedPatt.. | ScalableFixedPatt.. | ScalableFixedPatt..\n",
       " 216 | ScalableFixedPatt.. | ScalableFixedPatt.. | ScalableFixedPatt..\n",
       " 217 | ScalableFixedPatt.. | ScalableFixedPatt.. | ScalableFixedPatt..\n",
       " 218 | ScalableFixedPatt.. | ScalableFixedPatt.. | ScalableFixedPatt..\n",
       " 219 | ScalableFixedPatt.. | ScalableFixedPatt.. | ScalableFixedPatt..\n",
       " 220 | ScalableFixedPatt.. | ScalableFixedPatt.. | ScalableFixedPatt..\n",
       " 221 | ScalableFixedPatt.. | ScalableFixedPatt.. | ScalableFixedPatt..\n",
       " 222 | ScalableFixedPatt.. | ScalableFixedPatt.. | ScalableFixedPatt..\n",
       " 223 | ScalableFixedPatt.. | ScalableFixedPatt.. | ScalableFixedPatt..\n",
       " 224 | ScalableFixedPatt.. | ScalableFixedPatt.. | ScalableFixedPatt..\n",
       " 225 | ScalableFixedPatt.. | ScalableFixedPatt.. | ScalableFixedPatt..\n",
       " 226 | ScalableFixedPatt.. | ScalableFixedPatt.. | ScalableFixedPatt..\n",
       " 227 | ScalableFixedPatt.. | ScalableFixedPatt.. | ScalableFixedPatt..\n",
       " 228 | ScalableFixedPatt.. | ScalableFixedPatt.. | ScalableFixedPatt..\n",
       " 229 | ScalableFixedPatt.. | ScalableFixedPatt.. | ScalableFixedPatt..\n",
       " 230 | ScalableFixedPatt.. | ScalableFixedPatt.. | ScalableFixedPatt..\n",
       " 231 | ScalableFixedPatt.. | ScalableFixedPatt.. | ScalableFixedPatt..\n",
       " 232 | ScalableFixedPatt.. | ScalableFixedPatt.. | ScalableFixedPatt..\n",
       " 233 | ScalableFixedPatt.. | ScalableFixedPatt.. | ScalableFixedPatt..\n",
       " 234 | ScalableFixedPatt.. | ScalableFixedPatt.. | ScalableFixedPatt..\n",
       " 235 | ScalableFixedPatt.. | ScalableFixedPatt.. | ScalableFixedPatt..\n",
       " 236 | ScalableFixedPatt.. | ScalableFixedPatt.. | ScalableFixedPatt..\n",
       " 237 | ScalableFixedPatt.. | ScalableFixedPatt.. | ScalableFixedPatt..\n",
       " 238 | ScalableFixedPatt.. | ScalableFixedPatt.. | ScalableFixedPatt..\n",
       " 239 | ScalableFixedPatt.. | ScalableFixedPatt.. | ScalableFixedPatt..\n",
       " 240 | ScalableFixedPatt.. | ScalableFixedPatt.. | ScalableFixedPatt..\n",
       " 241 | ScalableFixedPatt.. | ScalableFixedPatt.. | ScalableFixedPatt..\n",
       " 242 | ScalableFixedPatt.. | ScalableFixedPatt.. | ScalableFixedPatt..\n",
       " 243 | ScalableFixedPatt.. | ScalableFixedPatt.. | ScalableFixedPatt..\n",
       " 244 | ScalableFixedPatt.. | ScalableFixedPatt.. | ScalableFixedPatt..\n",
       " 245 | ScalableFixedPatt.. | ScalableFixedPatt.. | ScalableFixedPatt..\n",
       " 246 | ScalableFixedPatt.. | ScalableFixedPatt.. | ScalableFixedPatt..\n",
       " 247 | ScalableFixedPatt.. | ScalableFixedPatt.. | ScalableFixedPatt..\n",
       " 248 | ScalableFixedPatt.. | ScalableFixedPatt.. | ScalableFixedPatt..\n",
       " 249 | ScalableFixedPatt.. | ScalableFixedPatt.. | ScalableFixedPatt..\n",
       " 250 | ScalableFixedPatt.. | ScalableFixedPatt.. | ScalableFixedPatt..\n",
       " 251 | ScalableFixedPatt.. | ScalableFixedPatt.. | ScalableFixedPatt..\n",
       " 252 | ScalableFixedPatt.. | ScalableFixedPatt.. | ScalableFixedPatt..\n",
       " 253 | ScalableFixedPatt.. | ScalableFixedPatt.. | ScalableFixedPatt..\n",
       " 254 | ScalableFixedPatt.. | ScalableFixedPatt.. | ScalableFixedPatt..\n",
       " 255 | ScalableFixedPatt.. | ScalableFixedPatt.. | ScalableFixedPatt..\n",
       " 256 | ScalableFixedPatt.. | ScalableFixedPatt.. | ScalableFixedPatt..\n",
       " 257 | ScalableFixedPatt.. | ScalableFixedPatt.. | ScalableFixedPatt..\n",
       " 258 | ScalableFixedPatt.. | ScalableFixedPatt.. | ScalableFixedPatt..\n",
       " 259 | ScalableFixedPatt.. | ScalableFixedPatt.. | ScalableFixedPatt..\n",
       " 260 | ScalableFixedPatt.. | ScalableFixedPatt.. | ScalableFixedPatt..\n",
       " 261 | ScalableFixedPatt.. | ScalableFixedPatt.. | ScalableFixedPatt..\n",
       " 262 | ScalableFixedPatt.. | ScalableFixedPatt.. | ScalableFixedPatt..\n",
       " 263 | ScalableFixedPatt.. | ScalableFixedPatt.. | ScalableFixedPatt..\n",
       " 264 | ScalableFixedPatt.. | ScalableFixedPatt.. | ScalableFixedPatt..\n",
       " 265 | ScalableFixedPatt.. | ScalableFixedPatt.. | ScalableFixedPatt..\n",
       " 266 | ScalableFixedPatt.. | ScalableFixedPatt.. | ScalableFixedPatt..\n",
       " 267 | ScalableFixedPatt.. | ScalableFixedPatt.. | ScalableFixedPatt..\n",
       " 268 | ScalableFixedPatt.. | ScalableFixedPatt.. | ScalableFixedPatt..\n",
       " 269 | ScalableFixedPatt.. | ScalableFixedPatt.. | ScalableFixedPatt..\n",
       " 270 | ScalableFixedPatt.. | ScalableFixedPatt.. | ScalableFixedPatt..\n",
       " 271 | ScalableFixedPatt.. | ScalableFixedPatt.. | ScalableFixedPatt..\n",
       " 272 | ScalableFixedPatt.. | ScalableFixedPatt.. | ScalableFixedPatt..\n",
       " 273 | ScalableFixedPatt.. | ScalableFixedPatt.. | ScalableFixedPatt..\n",
       " 274 | ScalableFixedPatt.. | ScalableFixedPatt.. | ScalableFixedPatt..\n",
       " 275 | ScalableFixedPatt.. | ScalableFixedPatt.. | ScalableFixedPatt..\n",
       " 276 | ScalableFixedPatt.. | ScalableFixedPatt.. | ScalableFixedPatt..\n",
       " 277 | ScalableFixedPatt.. | ScalableFixedPatt.. | ScalableFixedPatt..\n",
       " 278 | ScalableFixedPatt.. | ScalableFixedPatt.. | ScalableFixedPatt..\n",
       " 279 | ScalableFixedPatt.. | ScalableFixedPatt.. | ScalableFixedPatt..\n",
       " 280 | ScalableFixedPatt.. | ScalableFixedPatt.. | ScalableFixedPatt..\n",
       " 281 | ScalableFixedPatt.. | ScalableFixedPatt.. | ScalableFixedPatt..\n",
       " 282 | ScalableFixedPatt.. | ScalableFixedPatt.. | ScalableFixedPatt..\n",
       " 283 | ScalableFixedPatt.. | ScalableFixedPatt.. | ScalableFixedPatt..\n",
       " 284 | ScalableFixedPatt.. | ScalableFixedPatt.. | ScalableFixedPatt..\n",
       " 285 | ScalableFixedPatt.. | ScalableFixedPatt.. | ScalableFixedPatt..\n",
       " 286 | ScalableFixedPatt.. | ScalableFixedPatt.. | ScalableFixedPatt..\n",
       " 287 | ScalableFixedPatt.. | ScalableFixedPatt.. | ScalableFixedPatt..\n",
       " 288 | ScalableFixedPatt.. | ScalableFixedPatt.. | ScalableFixedPatt..\n",
       " 289 | ScalableFixedPatt.. | ScalableFixedPatt.. | ScalableFixedPatt..\n",
       " 290 | ScalableFixedPatt.. | ScalableFixedPatt.. | ScalableFixedPatt..\n",
       " 291 | ScalableFixedPatt.. | ScalableFixedPatt.. | ScalableFixedPatt..\n",
       " 292 | ScalableFixedPatt.. | ScalableFixedPatt.. | ScalableFixedPatt..\n",
       " 293 | ScalableFixedPatt.. | ScalableFixedPatt.. | ScalableFixedPatt..\n",
       " 294 | ScalableFixedPatt.. | ScalableFixedPatt.. | ScalableFixedPatt..\n",
       " 295 | ScalableFixedPatt.. | ScalableFixedPatt.. | ScalableFixedPatt..\n",
       " 296 | ScalableFixedPatt.. | ScalableFixedPatt.. | ScalableFixedPatt..\n",
       " 297 | ScalableFixedPatt.. | ScalableFixedPatt.. | ScalableFixedPatt..\n",
       " 298 | ScalableFixedPatt.. | ScalableFixedPatt.. | ScalableFixedPatt..\n",
       " 299 | ScalableFixedPatt.. | ScalableFixedPatt.. | ScalableFixedPatt..\n",
       " 300 | ScalableFixedPatt.. | ScalableFixedPatt.. | ScalableFixedPatt..\n",
       " 301 | ScalableFixedPatt.. | ScalableFixedPatt.. | ScalableFixedPatt..\n",
       " 302 | ScalableFixedPatt.. | ScalableFixedPatt.. | ScalableFixedPatt..\n",
       " 303 | ScalableFixedPatt.. | ScalableFixedPatt.. | ScalableFixedPatt..\n",
       " 304 | ScalableFixedPatt.. | ScalableFixedPatt.. | ScalableFixedPatt..\n",
       " 305 | ScalableFixedPatt.. | ScalableFixedPatt.. | ScalableFixedPatt..\n",
       " 306 | ScalableFixedPatt.. | ScalableFixedPatt.. | ScalableFixedPatt..\n",
       " 307 | ScalableFixedPatt.. | ScalableFixedPatt.. | ScalableFixedPatt..\n",
       " 308 | ScalableFixedPatt.. | ScalableFixedPatt.. | ScalableFixedPatt..\n",
       " 309 | ScalableFixedPatt.. | ScalableFixedPatt.. | ScalableFixedPatt..\n",
       " 310 | ScalableFixedPatt.. | ScalableFixedPatt.. | ScalableFixedPatt..\n",
       " 311 | ScalableFixedPatt.. | ScalableFixedPatt.. | ScalableFixedPatt..\n",
       " 312 | ScalableFixedPatt.. | ScalableFixedPatt.. | ScalableFixedPatt..\n",
       " 313 | ScalableFixedPatt.. | ScalableFixedPatt.. | ScalableFixedPatt..\n",
       " 314 | ScalableFixedPatt.. | ScalableFixedPatt.. | ScalableFixedPatt..\n",
       " 315 | ScalableFixedPatt.. | ScalableFixedPatt.. | ScalableFixedPatt..\n",
       " 316 | ScalableFixedPatt.. | ScalableFixedPatt.. | ScalableFixedPatt..\n",
       " 317 | ScalableFixedPatt.. | ScalableFixedPatt.. | ScalableFixedPatt..\n",
       " 318 | ScalableFixedPatt.. | ScalableFixedPatt.. | ScalableFixedPatt..\n",
       " 319 | ScalableFixedPatt.. | ScalableFixedPatt.. | ScalableFixedPatt..\n",
       " 320 | ScalableFixedPatt.. | ScalableFixedPatt.. | ScalableFixedPatt..\n",
       " 321 | ScalableFixedPatt.. | ScalableFixedPatt.. | ScalableFixedPatt..\n",
       " 322 | ScalableFixedPatt.. | ScalableFixedPatt.. | ScalableFixedPatt..\n",
       " 323 | ScalableFixedPatt.. | ScalableFixedPatt.. | ScalableFixedPatt..\n",
       " 324 | ScalableFixedPatt.. | ScalableFixedPatt.. | ScalableFixedPatt..\n",
       " 325 | ScalableFixedPatt.. | ScalableFixedPatt.. | ScalableFixedPatt..\n",
       " 326 | ScalableFixedPatt.. | ScalableFixedPatt.. | ScalableFixedPatt..\n",
       " 327 | ScalableFixedPatt.. | ScalableFixedPatt.. | ScalableFixedPatt..\n",
       " 328 | ScalableFixedPatt.. | ScalableFixedPatt.. | ScalableFixedPatt..\n",
       " 329 | ScalableFixedPatt.. | ScalableFixedPatt.. | ScalableFixedPatt..\n",
       " 330 | ScalableFixedPatt.. | ScalableFixedPatt.. | ScalableFixedPatt..\n",
       " 331 | ScalableFixedPatt.. | ScalableFixedPatt.. | ScalableFixedPatt..\n",
       " 332 | ScalableFixedPatt.. | ScalableFixedPatt.. | ScalableFixedPatt..\n",
       " 333 | ScalableFixedPatt.. | ScalableFixedPatt.. | ScalableFixedPatt..\n",
       " 334 | ScalableFixedPatt.. | ScalableFixedPatt.. | ScalableFixedPatt..\n",
       " 335 | ScalableFixedPatt.. | ScalableFixedPatt.. | ScalableFixedPatt..\n",
       " 336 | ScalableFixedPatt.. | ScalableFixedPatt.. | ScalableFixedPatt..\n",
       " 337 | ScalableFixedPatt.. | ScalableFixedPatt.. | ScalableFixedPatt..\n",
       " 338 | ScalableFixedPatt.. | ScalableFixedPatt.. | ScalableFixedPatt..\n",
       " 339 | ScalableFixedPatt.. | ScalableFixedPatt.. | ScalableFixedPatt..\n",
       " 340 | ScalableFixedPatt.. | ScalableFixedPatt.. | ScalableFixedPatt..\n",
       " 341 | ScalableFixedPatt.. | ScalableFixedPatt.. | ScalableFixedPatt..\n",
       " 342 | ScalableFixedPatt.. | ScalableFixedPatt.. | ScalableFixedPatt..\n",
       " 343 | ScalableFixedPatt.. | ScalableFixedPatt.. | ScalableFixedPatt..\n",
       " 344 | ScalableFixedPatt.. | ScalableFixedPatt.. | ScalableFixedPatt..\n",
       " 345 | ScalableFixedPatt.. | ScalableFixedPatt.. | ScalableFixedPatt..\n",
       " 346 | ScalableFixedPatt.. | ScalableFixedPatt.. | ScalableFixedPatt..\n",
       " 347 | ScalableFixedPatt.. | ScalableFixedPatt.. | ScalableFixedPatt..\n",
       " 348 | ScalableFixedPatt.. | ScalableFixedPatt.. | ScalableFixedPatt..\n",
       " 349 | ScalableFixedPatt.. | ScalableFixedPatt.. | ScalableFixedPatt..\n",
       " 350 | ScalableFixedPatt.. | ScalableFixedPatt.. | ScalableFixedPatt..\n",
       " 351 | ScalableFixedPatt.. | ScalableFixedPatt.. | ScalableFixedPatt..\n",
       " 352 | ScalableFixedPatt.. | ScalableFixedPatt.. | ScalableFixedPatt..\n",
       " 353 | ScalableFixedPatt.. | ScalableFixedPatt.. | ScalableFixedPatt..\n",
       " 354 | ScalableFixedPatt.. | ScalableFixedPatt.. | ScalableFixedPatt..\n",
       " 355 | ScalableFixedPatt.. | ScalableFixedPatt.. | ScalableFixedPatt..\n",
       " 356 | ScalableFixedPatt.. | ScalableFixedPatt.. | ScalableFixedPatt..\n",
       " 357 | ScalableFixedPatt.. | ScalableFixedPatt.. | ScalableFixedPatt..\n",
       " 358 | ScalableFixedPatt.. | ScalableFixedPatt.. | ScalableFixedPatt..\n",
       " 359 | ScalableFixedPatt.. | ScalableFixedPatt.. | ScalableFixedPatt..\n",
       " 360 | ScalableFixedPatt.. | ScalableFixedPatt.. | ScalableFixedPatt..\n",
       " 361 | ScalableFixedPatt.. | ScalableFixedPatt.. | ScalableFixedPatt..\n",
       " 362 | ScalableFixedPatt.. | ScalableFixedPatt.. | ScalableFixedPatt..\n",
       " 363 | ScalableFixedPatt.. | ScalableFixedPatt.. | ScalableFixedPatt..\n",
       " 364 | ScalableFixedPatt.. | ScalableFixedPatt.. | ScalableFixedPatt..\n",
       " 365 | ScalableFixedPatt.. | ScalableFixedPatt.. | ScalableFixedPatt..\n",
       " 366 | ScalableFixedPatt.. | ScalableFixedPatt.. | ScalableFixedPatt..\n",
       " 367 | ScalableFixedPatt.. | ScalableFixedPatt.. | ScalableFixedPatt..\n",
       " 368 | ScalableFixedPatt.. | ScalableFixedPatt.. | ScalableFixedPatt..\n",
       " 369 | ScalableFixedPatt.. | ScalableFixedPatt.. | ScalableFixedPatt..\n",
       " 370 | ScalableFixedPatt.. | ScalableFixedPatt.. | ScalableFixedPatt..\n",
       " 371 | ScalableFixedPatt.. | ScalableFixedPatt.. | ScalableFixedPatt..\n",
       " 372 | ScalableFixedPatt.. | ScalableFixedPatt.. | ScalableFixedPatt..\n",
       " 373 | ScalableFixedPatt.. | ScalableFixedPatt.. | ScalableFixedPatt..\n",
       " 374 | ScalableFixedPatt.. | ScalableFixedPatt.. | ScalableFixedPatt..\n",
       " 375 | ScalableFixedPatt.. | ScalableFixedPatt.. | ScalableFixedPatt..\n",
       " 376 | ScalableFixedPatt.. | ScalableFixedPatt.. | ScalableFixedPatt..\n",
       " 377 | ScalableFixedPatt.. | ScalableFixedPatt.. | ScalableFixedPatt..\n",
       " 378 | ScalableFixedPatt.. | ScalableFixedPatt.. | ScalableFixedPatt..\n",
       " 379 | ScalableFixedPatt.. | ScalableFixedPatt.. | ScalableFixedPatt..\n",
       " 380 | ScalableFixedPatt.. | ScalableFixedPatt.. | ScalableFixedPatt..\n",
       " 381 | ScalableFixedPatt.. | ScalableFixedPatt.. | ScalableFixedPatt..\n",
       " 382 | ScalableFixedPatt.. | ScalableFixedPatt.. | ScalableFixedPatt..\n",
       " 383 | ScalableFixedPatt.. | ScalableFixedPatt.. | ScalableFixedPatt..\n",
       " 384 | ScalableFixedPatt.. | ScalableFixedPatt.. | ScalableFixedPatt..\n",
       " 385 | ScalableFixedPatt.. | ScalableFixedPatt.. | ScalableFixedPatt..\n",
       " 386 | ScalableFixedPatt.. | ScalableFixedPatt.. | ScalableFixedPatt..\n",
       " 387 | ScalableFixedPatt.. | ScalableFixedPatt.. | ScalableFixedPatt..\n",
       " 388 | ScalableFixedPatt.. | ScalableFixedPatt.. | ScalableFixedPatt..\n",
       " 389 | ScalableFixedPatt.. | ScalableFixedPatt.. | ScalableFixedPatt..\n",
       " 390 | ScalableFixedPatt.. | ScalableFixedPatt.. | ScalableFixedPatt..\n",
       " 391 | ScalableFixedPatt.. | ScalableFixedPatt.. | ScalableFixedPatt..\n",
       " 392 | ScalableFixedPatt.. | ScalableFixedPatt.. | ScalableFixedPatt..\n",
       " 393 | ScalableFixedPatt.. | ScalableFixedPatt.. | ScalableFixedPatt..\n",
       " 394 | ScalableFixedPatt.. | ScalableFixedPatt.. | ScalableFixedPatt..\n",
       " 395 | ScalableFixedPatt.. | ScalableFixedPatt.. | ScalableFixedPatt..\n",
       " 396 | ScalableFixedPatt.. | ScalableFixedPatt.. | ScalableFixedPatt..\n",
       " 397 | ScalableFixedPatt.. | ScalableFixedPatt.. | ScalableFixedPatt..\n",
       " 398 | ScalableFixedPatt.. | ScalableFixedPatt.. | ScalableFixedPatt..\n",
       " 399 | ScalableFixedPatt.. | ScalableFixedPatt.. | ScalableFixedPatt..\n",
       " 400 | ScalableFixedPatt.. | ScalableFixedPatt.. | ScalableFixedPatt..\n",
       " 401 | ScalableFixedPatt.. | ScalableFixedPatt.. | ScalableFixedPatt..\n",
       " 402 | ScalableFixedPatt.. | ScalableFixedPatt.. | ScalableFixedPatt..\n",
       " 403 | ScalableFixedPatt.. | ScalableFixedPatt.. | ScalableFixedPatt..\n",
       " 404 | ScalableFixedPatt.. | ScalableFixedPatt.. | ScalableFixedPatt..\n",
       " 405 | ScalableFixedPatt.. | ScalableFixedPatt.. | ScalableFixedPatt..\n",
       " 406 | ScalableFixedPatt.. | ScalableFixedPatt.. | ScalableFixedPatt..\n",
       " 407 | ScalableFixedPatt.. | ScalableFixedPatt.. | ScalableFixedPatt..\n",
       " 408 | ScalableFixedPatt.. | ScalableFixedPatt.. | ScalableFixedPatt..\n",
       " 409 | ScalableFixedPatt.. | ScalableFixedPatt.. | ScalableFixedPatt..\n",
       " 410 | ScalableFixedPatt.. | ScalableFixedPatt.. | ScalableFixedPatt..\n",
       " 411 | ScalableFixedPatt.. | ScalableFixedPatt.. | ScalableFixedPatt..\n",
       " 412 | ScalableFixedPatt.. | ScalableFixedPatt.. | ScalableFixedPatt..\n",
       " 413 | ScalableFixedPatt.. | ScalableFixedPatt.. | ScalableFixedPatt..\n",
       " 414 | ScalableFixedPatt.. | ScalableFixedPatt.. | ScalableFixedPatt..\n",
       " 415 | ScalableFixedPatt.. | ScalableFixedPatt.. | ScalableFixedPatt..\n",
       " 416 | ScalableFixedPatt.. | ScalableFixedPatt.. | ScalableFixedPatt..\n",
       " 417 | ScalableFixedPatt.. | ScalableFixedPatt.. | ScalableFixedPatt..\n",
       " 418 | ScalableFixedPatt.. | ScalableFixedPatt.. | ScalableFixedPatt..\n",
       " 419 | ScalableFixedPatt.. | ScalableFixedPatt.. | ScalableFixedPatt..\n",
       " 420 | ScalableFixedPatt.. | ScalableFixedPatt.. | ScalableFixedPatt..\n",
       " 421 | ScalableFixedPatt.. | ScalableFixedPatt.. | ScalableFixedPatt..\n",
       " 422 | ScalableFixedPatt.. | ScalableFixedPatt.. | ScalableFixedPatt..\n",
       " 423 | ScalableFixedPatt.. | ScalableFixedPatt.. | ScalableFixedPatt..\n",
       " 424 | ScalableFixedPatt.. | ScalableFixedPatt.. | ScalableFixedPatt..\n",
       " 425 | ScalableFixedPatt.. | ScalableFixedPatt.. | ScalableFixedPatt..\n",
       " 426 | ScalableFixedPatt.. | ScalableFixedPatt.. | ScalableFixedPatt..\n",
       " 427 | ScalableFixedPatt.. | ScalableFixedPatt.. | ScalableFixedPatt..\n",
       " 428 | ScalableFixedPatt.. | ScalableFixedPatt.. | ScalableFixedPatt..\n",
       " 429 | ScalableFixedPatt.. | ScalableFixedPatt.. | ScalableFixedPatt..\n",
       " 430 | ScalableFixedPatt.. | ScalableFixedPatt.. | ScalableFixedPatt..\n",
       " 431 | ScalableFixedPatt.. | ScalableFixedPatt.. | ScalableFixedPatt..\n",
       " 432 | ScalableFixedPatt.. | ScalableFixedPatt.. | ScalableFixedPatt..\n",
       " 433 | ScalableFixedPatt.. | ScalableFixedPatt.. | ScalableFixedPatt..\n",
       " 434 | ScalableFixedPatt.. | ScalableFixedPatt.. | ScalableFixedPatt..\n",
       " 435 | ScalableFixedPatt.. | ScalableFixedPatt.. | ScalableFixedPatt..\n",
       " 436 | ScalableFixedPatt.. | ScalableFixedPatt.. | ScalableFixedPatt..\n",
       " 437 | ScalableFixedPatt.. | ScalableFixedPatt.. | ScalableFixedPatt..\n",
       " 438 | ScalableFixedPatt.. | ScalableFixedPatt.. | ScalableFixedPatt..\n",
       " 439 | ScalableFixedPatt.. | ScalableFixedPatt.. | ScalableFixedPatt..\n",
       " 440 | ScalableFixedPatt.. | ScalableFixedPatt.. | ScalableFixedPatt..\n",
       " 441 | ScalableFixedPatt.. | ScalableFixedPatt.. | ScalableFixedPatt..\n",
       " 442 | ScalableFixedPatt.. | ScalableFixedPatt.. | ScalableFixedPatt..\n",
       " 443 | ScalableFixedPatt.. | ScalableFixedPatt.. | ScalableFixedPatt..\n",
       " 444 | ScalableFixedPatt.. | ScalableFixedPatt.. | ScalableFixedPatt..\n",
       " 445 | ScalableFixedPatt.. | ScalableFixedPatt.. | ScalableFixedPatt..\n",
       " 446 | ScalableFixedPatt.. | ScalableFixedPatt.. | ScalableFixedPatt..\n",
       " 447 | ScalableFixedPatt.. | ScalableFixedPatt.. | ScalableFixedPatt..\n",
       " 448 | ScalableFixedPatt.. | ScalableFixedPatt.. | ScalableFixedPatt..\n",
       " 449 | ScalableFixedPatt.. | ScalableFixedPatt.. | ScalableFixedPatt..\n",
       " 450 | ScalableFixedPatt.. | ScalableFixedPatt.. | ScalableFixedPatt..\n",
       " 451 | ScalableFixedPatt.. | ScalableFixedPatt.. | ScalableFixedPatt..\n",
       " 452 | ScalableFixedPatt.. | ScalableFixedPatt.. | ScalableFixedPatt..\n",
       " 453 | ScalableFixedPatt.. | ScalableFixedPatt.. | ScalableFixedPatt..\n",
       " 454 | ScalableFixedPatt.. | ScalableFixedPatt.. | ScalableFixedPatt..\n",
       " 455 | ScalableFixedPatt.. | ScalableFixedPatt.. | ScalableFixedPatt..\n",
       " 456 | ScalableFixedPatt.. | ScalableFixedPatt.. | ScalableFixedPatt..\n",
       " 457 | ScalableFixedPatt.. | ScalableFixedPatt.. | ScalableFixedPatt..\n",
       " 458 | ScalableFixedPatt.. | ScalableFixedPatt.. | ScalableFixedPatt..\n",
       " 459 | ScalableFixedPatt.. | ScalableFixedPatt.. | ScalableFixedPatt..\n",
       " 460 | ScalableFixedPatt.. | ScalableFixedPatt.. | ScalableFixedPatt..\n",
       " 461 | ScalableFixedPatt.. | ScalableFixedPatt.. | ScalableFixedPatt..\n",
       " 462 | ScalableFixedPatt.. | ScalableFixedPatt.. | ScalableFixedPatt..\n",
       " 463 | ScalableFixedPatt.. | ScalableFixedPatt.. | ScalableFixedPatt..\n",
       " 464 | ScalableFixedPatt.. | ScalableFixedPatt.. | ScalableFixedPatt..\n",
       " 465 | ScalableFixedPatt.. | ScalableFixedPatt.. | ScalableFixedPatt..\n",
       " 466 | ScalableFixedPatt.. | ScalableFixedPatt.. | ScalableFixedPatt..\n",
       " 467 | ScalableFixedPatt.. | ScalableFixedPatt.. | ScalableFixedPatt..\n",
       " 468 | ScalableFixedPatt.. | ScalableFixedPatt.. | ScalableFixedPatt..\n",
       " 469 | ScalableFixedPatt.. | ScalableFixedPatt.. | ScalableFixedPatt..\n",
       " 470 | ScalableFixedPatt.. | ScalableFixedPatt.. | ScalableFixedPatt..\n",
       " 471 | ScalableFixedPatt.. | ScalableFixedPatt.. | ScalableFixedPatt..\n",
       " 472 | ScalableFixedPatt.. | ScalableFixedPatt.. | ScalableFixedPatt..\n",
       " 473 | ScalableFixedPatt.. | ScalableFixedPatt.. | ScalableFixedPatt..\n",
       " 474 | ScalableFixedPatt.. | ScalableFixedPatt.. | ScalableFixedPatt..\n",
       " 475 | ScalableFixedPatt.. | ScalableFixedPatt.. | ScalableFixedPatt..\n",
       " 476 | ScalableFixedPatt.. | ScalableFixedPatt.. | ScalableFixedPatt..\n",
       " 477 | ScalableFixedPatt.. | ScalableFixedPatt.. | ScalableFixedPatt..\n",
       " 478 | ScalableFixedPatt.. | ScalableFixedPatt.. | ScalableFixedPatt..\n",
       " 479 | ScalableFixedPatt.. | ScalableFixedPatt.. | ScalableFixedPatt..\n",
       " 480 | ScalableFixedPatt.. | ScalableFixedPatt.. | ScalableFixedPatt..\n",
       " 481 | ScalableFixedPatt.. | ScalableFixedPatt.. | ScalableFixedPatt..\n",
       " 482 | ScalableFixedPatt.. | ScalableFixedPatt.. | ScalableFixedPatt..\n",
       " 483 | ScalableFixedPatt.. | ScalableFixedPatt.. | ScalableFixedPatt..\n",
       " 484 | ScalableFixedPatt.. | ScalableFixedPatt.. | ScalableFixedPatt..\n",
       " 485 | ScalableFixedPatt.. | ScalableFixedPatt.. | ScalableFixedPatt..\n",
       " 486 | ScalableFixedPatt.. | ScalableFixedPatt.. | ScalableFixedPatt..\n",
       " 487 | ScalableFixedPatt.. | ScalableFixedPatt.. | ScalableFixedPatt..\n",
       " 488 | ScalableFixedPatt.. | ScalableFixedPatt.. | ScalableFixedPatt..\n",
       " 489 | ScalableFixedPatt.. | ScalableFixedPatt.. | ScalableFixedPatt..\n",
       " 490 | ScalableFixedPatt.. | ScalableFixedPatt.. | ScalableFixedPatt..\n",
       " 491 | ScalableFixedPatt.. | ScalableFixedPatt.. | ScalableFixedPatt..\n",
       " 492 | ScalableFixedPatt.. | ScalableFixedPatt.. | ScalableFixedPatt..\n",
       " 493 | ScalableFixedPatt.. | ScalableFixedPatt.. | ScalableFixedPatt..\n",
       " 494 | ScalableFixedPatt.. | ScalableFixedPatt.. | ScalableFixedPatt..\n",
       " 495 | ScalableFixedPatt.. | ScalableFixedPatt.. | ScalableFixedPatt..\n",
       " 496 | ScalableFixedPatt.. | ScalableFixedPatt.. | ScalableFixedPatt..\n",
       " 497 | ScalableFixedPatt.. | ScalableFixedPatt.. | ScalableFixedPatt..\n",
       " 498 | ScalableFixedPatt.. | ScalableFixedPatt.. | ScalableFixedPatt..\n",
       " 499 | ScalableFixedPatt.. | ScalableFixedPatt.. | ScalableFixedPatt..\n",
       " 500 | ScalableFixedPatt.. | ScalableFixedPatt.. | ScalableFixedPatt..\n",
       " 501 | ScalableFixedPatt.. | ScalableFixedPatt.. | ScalableFixedPatt..\n",
       " 502 | ScalableFixedPatt.. | ScalableFixedPatt.. | ScalableFixedPatt..\n",
       " 503 | ScalableFixedPatt.. | ScalableFixedPatt.. | ScalableFixedPatt..\n",
       " 504 | ScalableFixedPatt.. | ScalableFixedPatt.. | ScalableFixedPatt..\n",
       " 505 | ScalableFixedPatt.. | ScalableFixedPatt.. | ScalableFixedPatt..\n",
       " 506 | ScalableFixedPatt.. | ScalableFixedPatt.. | ScalableFixedPatt..\n",
       " 507 | ScalableFixedPatt.. | ScalableFixedPatt.. | ScalableFixedPatt..\n",
       " 508 | ScalableFixedPatt.. | ScalableFixedPatt.. | ScalableFixedPatt..\n",
       " 509 | ScalableFixedPatt.. | ScalableFixedPatt.. | ScalableFixedPatt..\n",
       " 510 | ScalableFixedPatt.. | ScalableFixedPatt.. | ScalableFixedPatt..\n",
       " 511 | ScalableFixedPatt.. | ScalableFixedPatt.. | ScalableFixedPatt.."
      ]
     },
     "execution_count": 47,
     "metadata": {},
     "output_type": "execute_result"
    }
   ],
   "source": [
    "m.components"
   ]
  },
  {
   "cell_type": "code",
   "execution_count": 48,
   "metadata": {
    "collapsed": true
   },
   "outputs": [],
   "source": [
    "for i in range (0,len(m)):\n",
    "    m.set_parameters_not_free([i], parameter_name_list=['xscale','shift'])\n",
    "    m.set_parameters_value('yscale',value=0.5,component_list=[i])"
   ]
  },
  {
   "cell_type": "code",
   "execution_count": 49,
   "metadata": {},
   "outputs": [
    {
     "data": {
      "application/vnd.jupyter.widget-view+json": {
       "model_id": "f88a3b3d4a9b44ba9cf091899d18cfaf"
      }
     },
     "metadata": {},
     "output_type": "display_data"
    },
    {
     "name": "stdout",
     "output_type": "stream",
     "text": [
      "\n"
     ]
    },
    {
     "ename": "ValueError",
     "evalue": "non-broadcastable output operand with shape (512,) doesn't match the broadcast shape (110,512)",
     "output_type": "error",
     "traceback": [
      "\u001b[1;31m---------------------------------------------------------------------------\u001b[0m",
      "\u001b[1;31mValueError\u001b[0m                                Traceback (most recent call last)",
      "\u001b[1;32m<ipython-input-49-7fc210e75c70>\u001b[0m in \u001b[0;36m<module>\u001b[1;34m()\u001b[0m\n\u001b[1;32m----> 1\u001b[1;33m \u001b[0mm\u001b[0m\u001b[1;33m.\u001b[0m\u001b[0mmultifit\u001b[0m\u001b[1;33m(\u001b[0m\u001b[0mbounded\u001b[0m\u001b[1;33m=\u001b[0m\u001b[1;32mTrue\u001b[0m\u001b[1;33m,\u001b[0m\u001b[0mgrad\u001b[0m\u001b[1;33m=\u001b[0m\u001b[1;32mTrue\u001b[0m\u001b[1;33m)\u001b[0m\u001b[1;33m\u001b[0m\u001b[0m\n\u001b[0m",
      "\u001b[1;32mC:\\Anaconda3\\lib\\site-packages\\hyperspy\\model.py\u001b[0m in \u001b[0;36mmultifit\u001b[1;34m(self, mask, fetch_only_fixed, autosave, autosave_every, show_progressbar, interactive_plot, **kwargs)\u001b[0m\n\u001b[0;32m   1284\u001b[0m                                 self.fetch_stored_values(\n\u001b[0;32m   1285\u001b[0m                                     only_fixed=fetch_only_fixed)\n\u001b[1;32m-> 1286\u001b[1;33m                                 \u001b[0mself\u001b[0m\u001b[1;33m.\u001b[0m\u001b[0mfit\u001b[0m\u001b[1;33m(\u001b[0m\u001b[1;33m**\u001b[0m\u001b[0mkwargs\u001b[0m\u001b[1;33m)\u001b[0m\u001b[1;33m\u001b[0m\u001b[0m\n\u001b[0m\u001b[0;32m   1287\u001b[0m                                 \u001b[0mi\u001b[0m \u001b[1;33m+=\u001b[0m \u001b[1;36m1\u001b[0m\u001b[1;33m\u001b[0m\u001b[0m\n\u001b[0;32m   1288\u001b[0m                                 \u001b[0mpbar\u001b[0m\u001b[1;33m.\u001b[0m\u001b[0mupdate\u001b[0m\u001b[1;33m(\u001b[0m\u001b[1;36m1\u001b[0m\u001b[1;33m)\u001b[0m\u001b[1;33m\u001b[0m\u001b[0m\n",
      "\u001b[1;32mC:\\Anaconda3\\lib\\site-packages\\hyperspy\\model.py\u001b[0m in \u001b[0;36mfit\u001b[1;34m(self, fitter, method, grad, bounded, ext_bounding, update_plot, **kwargs)\u001b[0m\n\u001b[0;32m   1060\u001b[0m                     \u001b[0moutput\u001b[0m \u001b[1;33m=\u001b[0m\u001b[0;31m \u001b[0m\u001b[0;31m\\\u001b[0m\u001b[1;33m\u001b[0m\u001b[0m\n\u001b[0;32m   1061\u001b[0m                         least_squares(self._errfunc, self.p0[:],\n\u001b[1;32m-> 1062\u001b[1;33m                                       args=args, bounds=ls_b, **kwargs)\n\u001b[0m\u001b[0;32m   1063\u001b[0m                     \u001b[0mself\u001b[0m\u001b[1;33m.\u001b[0m\u001b[0mp0\u001b[0m \u001b[1;33m=\u001b[0m \u001b[0moutput\u001b[0m\u001b[1;33m.\u001b[0m\u001b[0mx\u001b[0m\u001b[1;33m\u001b[0m\u001b[0m\n\u001b[0;32m   1064\u001b[0m \u001b[1;33m\u001b[0m\u001b[0m\n",
      "\u001b[1;32mC:\\Anaconda3\\lib\\site-packages\\scipy\\optimize\\_lsq\\least_squares.py\u001b[0m in \u001b[0;36mleast_squares\u001b[1;34m(fun, x0, jac, bounds, method, ftol, xtol, gtol, x_scale, loss, f_scale, diff_step, tr_solver, tr_options, jac_sparsity, max_nfev, verbose, args, kwargs)\u001b[0m\n\u001b[0;32m    797\u001b[0m         \u001b[0mx0\u001b[0m \u001b[1;33m=\u001b[0m \u001b[0mmake_strictly_feasible\u001b[0m\u001b[1;33m(\u001b[0m\u001b[0mx0\u001b[0m\u001b[1;33m,\u001b[0m \u001b[0mlb\u001b[0m\u001b[1;33m,\u001b[0m \u001b[0mub\u001b[0m\u001b[1;33m)\u001b[0m\u001b[1;33m\u001b[0m\u001b[0m\n\u001b[0;32m    798\u001b[0m \u001b[1;33m\u001b[0m\u001b[0m\n\u001b[1;32m--> 799\u001b[1;33m     \u001b[0mf0\u001b[0m \u001b[1;33m=\u001b[0m \u001b[0mfun_wrapped\u001b[0m\u001b[1;33m(\u001b[0m\u001b[0mx0\u001b[0m\u001b[1;33m)\u001b[0m\u001b[1;33m\u001b[0m\u001b[0m\n\u001b[0m\u001b[0;32m    800\u001b[0m \u001b[1;33m\u001b[0m\u001b[0m\n\u001b[0;32m    801\u001b[0m     \u001b[1;32mif\u001b[0m \u001b[0mf0\u001b[0m\u001b[1;33m.\u001b[0m\u001b[0mndim\u001b[0m \u001b[1;33m!=\u001b[0m \u001b[1;36m1\u001b[0m\u001b[1;33m:\u001b[0m\u001b[1;33m\u001b[0m\u001b[0m\n",
      "\u001b[1;32mC:\\Anaconda3\\lib\\site-packages\\scipy\\optimize\\_lsq\\least_squares.py\u001b[0m in \u001b[0;36mfun_wrapped\u001b[1;34m(x)\u001b[0m\n\u001b[0;32m    792\u001b[0m \u001b[1;33m\u001b[0m\u001b[0m\n\u001b[0;32m    793\u001b[0m     \u001b[1;32mdef\u001b[0m \u001b[0mfun_wrapped\u001b[0m\u001b[1;33m(\u001b[0m\u001b[0mx\u001b[0m\u001b[1;33m)\u001b[0m\u001b[1;33m:\u001b[0m\u001b[1;33m\u001b[0m\u001b[0m\n\u001b[1;32m--> 794\u001b[1;33m         \u001b[1;32mreturn\u001b[0m \u001b[0mnp\u001b[0m\u001b[1;33m.\u001b[0m\u001b[0matleast_1d\u001b[0m\u001b[1;33m(\u001b[0m\u001b[0mfun\u001b[0m\u001b[1;33m(\u001b[0m\u001b[0mx\u001b[0m\u001b[1;33m,\u001b[0m \u001b[1;33m*\u001b[0m\u001b[0margs\u001b[0m\u001b[1;33m,\u001b[0m \u001b[1;33m**\u001b[0m\u001b[0mkwargs\u001b[0m\u001b[1;33m)\u001b[0m\u001b[1;33m)\u001b[0m\u001b[1;33m\u001b[0m\u001b[0m\n\u001b[0m\u001b[0;32m    795\u001b[0m \u001b[1;33m\u001b[0m\u001b[0m\n\u001b[0;32m    796\u001b[0m     \u001b[1;32mif\u001b[0m \u001b[0mmethod\u001b[0m \u001b[1;33m==\u001b[0m \u001b[1;34m'trf'\u001b[0m\u001b[1;33m:\u001b[0m\u001b[1;33m\u001b[0m\u001b[0m\n",
      "\u001b[1;32mC:\\Anaconda3\\lib\\site-packages\\hyperspy\\models\\model1d.py\u001b[0m in \u001b[0;36m_errfunc\u001b[1;34m(self, param, y, weights)\u001b[0m\n\u001b[0;32m    431\u001b[0m         \u001b[1;32mif\u001b[0m \u001b[0mweights\u001b[0m \u001b[1;32mis\u001b[0m \u001b[1;32mNone\u001b[0m\u001b[1;33m:\u001b[0m\u001b[1;33m\u001b[0m\u001b[0m\n\u001b[0;32m    432\u001b[0m             \u001b[0mweights\u001b[0m \u001b[1;33m=\u001b[0m \u001b[1;36m1.\u001b[0m\u001b[1;33m\u001b[0m\u001b[0m\n\u001b[1;32m--> 433\u001b[1;33m         \u001b[0merrfunc\u001b[0m \u001b[1;33m=\u001b[0m \u001b[0mself\u001b[0m\u001b[1;33m.\u001b[0m\u001b[0m_model_function\u001b[0m\u001b[1;33m(\u001b[0m\u001b[0mparam\u001b[0m\u001b[1;33m)\u001b[0m \u001b[1;33m-\u001b[0m \u001b[0my\u001b[0m\u001b[1;33m\u001b[0m\u001b[0m\n\u001b[0m\u001b[0;32m    434\u001b[0m         \u001b[1;32mreturn\u001b[0m \u001b[0merrfunc\u001b[0m \u001b[1;33m*\u001b[0m \u001b[0mweights\u001b[0m\u001b[1;33m\u001b[0m\u001b[0m\n\u001b[0;32m    435\u001b[0m \u001b[1;33m\u001b[0m\u001b[0m\n",
      "\u001b[1;32mC:\\Anaconda3\\lib\\site-packages\\hyperspy\\model.py\u001b[0m in \u001b[0;36m_model_function\u001b[1;34m(self, param)\u001b[0m\n\u001b[0;32m    834\u001b[0m         \u001b[0mself\u001b[0m\u001b[1;33m.\u001b[0m\u001b[0mp0\u001b[0m \u001b[1;33m=\u001b[0m \u001b[0mparam\u001b[0m\u001b[1;33m\u001b[0m\u001b[0m\n\u001b[0;32m    835\u001b[0m         \u001b[0mself\u001b[0m\u001b[1;33m.\u001b[0m\u001b[0m_fetch_values_from_p0\u001b[0m\u001b[1;33m(\u001b[0m\u001b[1;33m)\u001b[0m\u001b[1;33m\u001b[0m\u001b[0m\n\u001b[1;32m--> 836\u001b[1;33m         \u001b[0mto_return\u001b[0m \u001b[1;33m=\u001b[0m \u001b[0mself\u001b[0m\u001b[1;33m.\u001b[0m\u001b[0m__call__\u001b[0m\u001b[1;33m(\u001b[0m\u001b[0mnon_convolved\u001b[0m\u001b[1;33m=\u001b[0m\u001b[1;32mFalse\u001b[0m\u001b[1;33m,\u001b[0m \u001b[0monlyactive\u001b[0m\u001b[1;33m=\u001b[0m\u001b[1;32mTrue\u001b[0m\u001b[1;33m)\u001b[0m\u001b[1;33m\u001b[0m\u001b[0m\n\u001b[0m\u001b[0;32m    837\u001b[0m         \u001b[1;32mreturn\u001b[0m \u001b[0mto_return\u001b[0m\u001b[1;33m\u001b[0m\u001b[0m\n\u001b[0;32m    838\u001b[0m \u001b[1;33m\u001b[0m\u001b[0m\n",
      "\u001b[1;32mC:\\Anaconda3\\lib\\site-packages\\hyperspy\\models\\model1d.py\u001b[0m in \u001b[0;36m__call__\u001b[1;34m(self, non_convolved, onlyactive, component_list)\u001b[0m\n\u001b[0;32m    408\u001b[0m             \u001b[0msum_\u001b[0m \u001b[1;33m=\u001b[0m \u001b[0mnp\u001b[0m\u001b[1;33m.\u001b[0m\u001b[0mzeros\u001b[0m\u001b[1;33m(\u001b[0m\u001b[0mlen\u001b[0m\u001b[1;33m(\u001b[0m\u001b[0maxis\u001b[0m\u001b[1;33m)\u001b[0m\u001b[1;33m)\u001b[0m\u001b[1;33m\u001b[0m\u001b[0m\n\u001b[0;32m    409\u001b[0m             \u001b[1;32mfor\u001b[0m \u001b[0mcomponent\u001b[0m \u001b[1;32min\u001b[0m \u001b[0mcomponent_list\u001b[0m\u001b[1;33m:\u001b[0m\u001b[1;33m\u001b[0m\u001b[0m\n\u001b[1;32m--> 410\u001b[1;33m                 \u001b[0msum_\u001b[0m \u001b[1;33m+=\u001b[0m \u001b[0mcomponent\u001b[0m\u001b[1;33m.\u001b[0m\u001b[0mfunction\u001b[0m\u001b[1;33m(\u001b[0m\u001b[0maxis\u001b[0m\u001b[1;33m)\u001b[0m\u001b[1;33m\u001b[0m\u001b[0m\n\u001b[0m\u001b[0;32m    411\u001b[0m             \u001b[0mto_return\u001b[0m \u001b[1;33m=\u001b[0m \u001b[0msum_\u001b[0m\u001b[1;33m\u001b[0m\u001b[0m\n\u001b[0;32m    412\u001b[0m \u001b[1;33m\u001b[0m\u001b[0m\n",
      "\u001b[1;31mValueError\u001b[0m: non-broadcastable output operand with shape (512,) doesn't match the broadcast shape (110,512)"
     ]
    }
   ],
   "source": [
    "m.multifit(bounded=True,grad=True)"
   ]
  },
  {
   "cell_type": "code",
   "execution_count": null,
   "metadata": {
    "collapsed": true
   },
   "outputs": [],
   "source": [
    "m.plot(plot_components=True)"
   ]
  },
  {
   "cell_type": "code",
   "execution_count": 50,
   "metadata": {
    "collapsed": true
   },
   "outputs": [],
   "source": [
    "d.plot()"
   ]
  },
  {
   "cell_type": "code",
   "execution_count": 42,
   "metadata": {},
   "outputs": [
    {
     "name": "stderr",
     "output_type": "stream",
     "text": [
      "C:\\Anaconda3\\lib\\site-packages\\matplotlib\\__init__.py:892: UserWarning: axes.color_cycle is deprecated and replaced with axes.prop_cycle; please use the latter.\n",
      "  warnings.warn(self.msg_depr % (key, alt_key))\n"
     ]
    },
    {
     "data": {
      "text/plain": [
       "<matplotlib.axes._subplots.AxesSubplot at 0x252e4a20>"
      ]
     },
     "execution_count": 42,
     "metadata": {},
     "output_type": "execute_result"
    }
   ],
   "source": [
    "hs.plot.plot_spectra([sr.inav[30,7,0],d.inav[30,7,0]])"
   ]
  },
  {
   "cell_type": "code",
   "execution_count": 82,
   "metadata": {
    "collapsed": true
   },
   "outputs": [],
   "source": [
    "plt.close('all')"
   ]
  },
  {
   "cell_type": "code",
   "execution_count": 162,
   "metadata": {
    "collapsed": true
   },
   "outputs": [],
   "source": [
    "m.plot(plot_components=True)"
   ]
  },
  {
   "cell_type": "code",
   "execution_count": 124,
   "metadata": {
    "collapsed": true
   },
   "outputs": [],
   "source": []
  },
  {
   "cell_type": "code",
   "execution_count": null,
   "metadata": {
    "collapsed": true
   },
   "outputs": [],
   "source": [
    "m.save('goodfit.hdf5', 'model')"
   ]
  },
  {
   "cell_type": "code",
   "execution_count": null,
   "metadata": {
    "collapsed": true,
    "scrolled": true
   },
   "outputs": [],
   "source": [
    "u=hs.load('crop2.hdf5')\n",
    "m =u.models.restore('model')"
   ]
  },
  {
   "cell_type": "code",
   "execution_count": 112,
   "metadata": {},
   "outputs": [
    {
     "data": {
      "text/plain": [
       "<bound method EDS_mixin.add_lines of <EDSSEMSpectrum, title: Map Sum Spectrum model from decomposition with 12 components, dimensions: (41, 22, 1|512)>>"
      ]
     },
     "execution_count": 112,
     "metadata": {},
     "output_type": "execute_result"
    }
   ],
   "source": [
    "u.metadata.Sample.elements=[]\n",
    "u.add_lines"
   ]
  },
  {
   "cell_type": "code",
   "execution_count": 113,
   "metadata": {
    "scrolled": true
   },
   "outputs": [
    {
     "data": {
      "text/plain": [
       "├── Acquisition_instrument\n",
       "│   └── SEM\n",
       "│       ├── Detector\n",
       "│       │   └── EDS\n",
       "│       │       ├── azimuth_angle = 0.0\n",
       "│       │       ├── elevation_angle = 29.0\n",
       "│       │       ├── energy_resolution_MnKa = 130.0\n",
       "│       │       ├── live_time = 340787.1875\n",
       "│       │       └── real_time = 52578.2421875\n",
       "│       ├── beam_energy = 5.0\n",
       "│       ├── magnification = X440\n",
       "│       └── tilt_stage = 0.0\n",
       "├── General\n",
       "│   ├── date = 2017-01-24\n",
       "│   ├── original_filename = Paris_section-6_Map2\n",
       "│   ├── time = 17:42:00\n",
       "│   └── title = Map Sum Spectrum model from decomposition with 12 components\n",
       "├── Sample\n",
       "│   ├── elements = []\n",
       "│   └── xray_lines = []\n",
       "└── Signal\n",
       "    ├── binned = True\n",
       "    ├── quantity = X-rays (Counts)\n",
       "    └── signal_type = EDS_SEM"
      ]
     },
     "execution_count": 113,
     "metadata": {},
     "output_type": "execute_result"
    }
   ],
   "source": [
    "u.metadata"
   ]
  },
  {
   "cell_type": "code",
   "execution_count": 114,
   "metadata": {},
   "outputs": [
    {
     "ename": "ValueError",
     "evalue": "Component name \"Mn_La\" not found in model",
     "output_type": "error",
     "traceback": [
      "\u001b[0;31m---------------------------------------------------------------------------\u001b[0m",
      "\u001b[0;31mValueError\u001b[0m                                Traceback (most recent call last)",
      "\u001b[0;32m<ipython-input-114-402e274900ce>\u001b[0m in \u001b[0;36m<module>\u001b[0;34m()\u001b[0m\n\u001b[0;32m----> 1\u001b[0;31m \u001b[0mm\u001b[0m\u001b[1;33m=\u001b[0m\u001b[0mu\u001b[0m\u001b[1;33m.\u001b[0m\u001b[0mmodels\u001b[0m\u001b[1;33m.\u001b[0m\u001b[0mrestore\u001b[0m\u001b[1;33m(\u001b[0m\u001b[1;34m'model'\u001b[0m\u001b[1;33m)\u001b[0m\u001b[1;33m\u001b[0m\u001b[0m\n\u001b[0m",
      "\u001b[0;32mC:\\Anaconda3\\lib\\site-packages\\hyperspy\\signal.py\u001b[0m in \u001b[0;36mrestore\u001b[0;34m(self, name)\u001b[0m\n\u001b[1;32m    229\u001b[0m         \u001b[0mname\u001b[0m \u001b[1;33m=\u001b[0m \u001b[0mself\u001b[0m\u001b[1;33m.\u001b[0m\u001b[0m_check_name\u001b[0m\u001b[1;33m(\u001b[0m\u001b[0mname\u001b[0m\u001b[1;33m,\u001b[0m \u001b[1;32mTrue\u001b[0m\u001b[1;33m)\u001b[0m\u001b[1;33m\u001b[0m\u001b[0m\n\u001b[1;32m    230\u001b[0m         \u001b[0md\u001b[0m \u001b[1;33m=\u001b[0m \u001b[0mself\u001b[0m\u001b[1;33m.\u001b[0m\u001b[0m_models\u001b[0m\u001b[1;33m.\u001b[0m\u001b[0mget_item\u001b[0m\u001b[1;33m(\u001b[0m\u001b[0mname\u001b[0m \u001b[1;33m+\u001b[0m \u001b[1;34m'._dict'\u001b[0m\u001b[1;33m)\u001b[0m\u001b[1;33m.\u001b[0m\u001b[0mas_dictionary\u001b[0m\u001b[1;33m(\u001b[0m\u001b[1;33m)\u001b[0m\u001b[1;33m\u001b[0m\u001b[0m\n\u001b[0;32m--> 231\u001b[0;31m         \u001b[1;32mreturn\u001b[0m \u001b[0mself\u001b[0m\u001b[1;33m.\u001b[0m\u001b[0m_signal\u001b[0m\u001b[1;33m.\u001b[0m\u001b[0mcreate_model\u001b[0m\u001b[1;33m(\u001b[0m\u001b[0mdictionary\u001b[0m\u001b[1;33m=\u001b[0m\u001b[0mcopy\u001b[0m\u001b[1;33m.\u001b[0m\u001b[0mdeepcopy\u001b[0m\u001b[1;33m(\u001b[0m\u001b[0md\u001b[0m\u001b[1;33m)\u001b[0m\u001b[1;33m)\u001b[0m\u001b[1;33m\u001b[0m\u001b[0m\n\u001b[0m\u001b[1;32m    232\u001b[0m \u001b[1;33m\u001b[0m\u001b[0m\n\u001b[1;32m    233\u001b[0m     \u001b[1;32mdef\u001b[0m \u001b[0m__repr__\u001b[0m\u001b[1;33m(\u001b[0m\u001b[0mself\u001b[0m\u001b[1;33m)\u001b[0m\u001b[1;33m:\u001b[0m\u001b[1;33m\u001b[0m\u001b[0m\n",
      "\u001b[0;32mC:\\Anaconda3\\lib\\site-packages\\hyperspy\\_signals\\eds_sem.py\u001b[0m in \u001b[0;36mcreate_model\u001b[0;34m(self, auto_background, auto_add_lines, *args, **kwargs)\u001b[0m\n\u001b[1;32m    303\u001b[0m                             \u001b[0mauto_background\u001b[0m\u001b[1;33m=\u001b[0m\u001b[0mauto_background\u001b[0m\u001b[1;33m,\u001b[0m\u001b[1;33m\u001b[0m\u001b[0m\n\u001b[1;32m    304\u001b[0m                             \u001b[0mauto_add_lines\u001b[0m\u001b[1;33m=\u001b[0m\u001b[0mauto_add_lines\u001b[0m\u001b[1;33m,\u001b[0m\u001b[1;33m\u001b[0m\u001b[0m\n\u001b[0;32m--> 305\u001b[0;31m                             *args, **kwargs)\n\u001b[0m\u001b[1;32m    306\u001b[0m         \u001b[1;32mreturn\u001b[0m \u001b[0mmodel\u001b[0m\u001b[1;33m\u001b[0m\u001b[0m\n\u001b[1;32m    307\u001b[0m \u001b[1;33m\u001b[0m\u001b[0m\n",
      "\u001b[0;32mC:\\Anaconda3\\lib\\site-packages\\hyperspy\\models\\edssemmodel.py\u001b[0m in \u001b[0;36m__init__\u001b[0;34m(self, spectrum, auto_background, auto_add_lines, *args, **kwargs)\u001b[0m\n\u001b[1;32m     45\u001b[0m                  *args, **kwargs):\n\u001b[1;32m     46\u001b[0m         EDSModel.__init__(self, spectrum, auto_background, auto_add_lines,\n\u001b[0;32m---> 47\u001b[0;31m                           *args, **kwargs)\n\u001b[0m",
      "\u001b[0;32mC:\\Anaconda3\\lib\\site-packages\\hyperspy\\models\\edsmodel.py\u001b[0m in \u001b[0;36m__init__\u001b[0;34m(self, spectrum, auto_background, auto_add_lines, *args, **kwargs)\u001b[0m\n\u001b[1;32m    139\u001b[0m             \u001b[1;32mif\u001b[0m \u001b[0mlen\u001b[0m\u001b[1;33m(\u001b[0m\u001b[0md\u001b[0m\u001b[1;33m[\u001b[0m\u001b[1;34m'xray_lines'\u001b[0m\u001b[1;33m]\u001b[0m\u001b[1;33m)\u001b[0m \u001b[1;33m>\u001b[0m \u001b[1;36m0\u001b[0m\u001b[1;33m:\u001b[0m\u001b[1;33m\u001b[0m\u001b[0m\n\u001b[1;32m    140\u001b[0m                 self.xray_lines.extend(\n\u001b[0;32m--> 141\u001b[0;31m                     [self[name] for name in d['xray_lines']])\n\u001b[0m\u001b[1;32m    142\u001b[0m                 \u001b[0mauto_add_lines\u001b[0m \u001b[1;33m=\u001b[0m \u001b[1;32mFalse\u001b[0m\u001b[1;33m\u001b[0m\u001b[0m\n\u001b[1;32m    143\u001b[0m             \u001b[1;32mif\u001b[0m \u001b[0mlen\u001b[0m\u001b[1;33m(\u001b[0m\u001b[0md\u001b[0m\u001b[1;33m[\u001b[0m\u001b[1;34m'background_components'\u001b[0m\u001b[1;33m]\u001b[0m\u001b[1;33m)\u001b[0m \u001b[1;33m>\u001b[0m \u001b[1;36m0\u001b[0m\u001b[1;33m:\u001b[0m\u001b[1;33m\u001b[0m\u001b[0m\n",
      "\u001b[0;32mC:\\Anaconda3\\lib\\site-packages\\hyperspy\\models\\edsmodel.py\u001b[0m in \u001b[0;36m<listcomp>\u001b[0;34m(.0)\u001b[0m\n\u001b[1;32m    139\u001b[0m             \u001b[1;32mif\u001b[0m \u001b[0mlen\u001b[0m\u001b[1;33m(\u001b[0m\u001b[0md\u001b[0m\u001b[1;33m[\u001b[0m\u001b[1;34m'xray_lines'\u001b[0m\u001b[1;33m]\u001b[0m\u001b[1;33m)\u001b[0m \u001b[1;33m>\u001b[0m \u001b[1;36m0\u001b[0m\u001b[1;33m:\u001b[0m\u001b[1;33m\u001b[0m\u001b[0m\n\u001b[1;32m    140\u001b[0m                 self.xray_lines.extend(\n\u001b[0;32m--> 141\u001b[0;31m                     [self[name] for name in d['xray_lines']])\n\u001b[0m\u001b[1;32m    142\u001b[0m                 \u001b[0mauto_add_lines\u001b[0m \u001b[1;33m=\u001b[0m \u001b[1;32mFalse\u001b[0m\u001b[1;33m\u001b[0m\u001b[0m\n\u001b[1;32m    143\u001b[0m             \u001b[1;32mif\u001b[0m \u001b[0mlen\u001b[0m\u001b[1;33m(\u001b[0m\u001b[0md\u001b[0m\u001b[1;33m[\u001b[0m\u001b[1;34m'background_components'\u001b[0m\u001b[1;33m]\u001b[0m\u001b[1;33m)\u001b[0m \u001b[1;33m>\u001b[0m \u001b[1;36m0\u001b[0m\u001b[1;33m:\u001b[0m\u001b[1;33m\u001b[0m\u001b[0m\n",
      "\u001b[0;32mC:\\Anaconda3\\lib\\site-packages\\hyperspy\\model.py\u001b[0m in \u001b[0;36m__getitem__\u001b[0;34m(self, value)\u001b[0m\n\u001b[1;32m   1745\u001b[0m                 raise ValueError(\n\u001b[1;32m   1746\u001b[0m                     \u001b[1;34m\"Component name \\\"\"\u001b[0m \u001b[1;33m+\u001b[0m \u001b[0mstr\u001b[0m\u001b[1;33m(\u001b[0m\u001b[0mvalue\u001b[0m\u001b[1;33m)\u001b[0m \u001b[1;33m+\u001b[0m\u001b[1;33m\u001b[0m\u001b[0m\n\u001b[0;32m-> 1747\u001b[0;31m                     \"\\\" not found in model\")\n\u001b[0m\u001b[1;32m   1748\u001b[0m         \u001b[1;32melse\u001b[0m\u001b[1;33m:\u001b[0m\u001b[1;33m\u001b[0m\u001b[0m\n\u001b[1;32m   1749\u001b[0m             \u001b[1;32mreturn\u001b[0m \u001b[0mlist\u001b[0m\u001b[1;33m.\u001b[0m\u001b[0m__getitem__\u001b[0m\u001b[1;33m(\u001b[0m\u001b[0mself\u001b[0m\u001b[1;33m,\u001b[0m \u001b[0mvalue\u001b[0m\u001b[1;33m)\u001b[0m\u001b[1;33m\u001b[0m\u001b[0m\n",
      "\u001b[0;31mValueError\u001b[0m: Component name \"Mn_La\" not found in model"
     ]
    }
   ],
   "source": [
    "m=u.models.restore('model')"
   ]
  },
  {
   "cell_type": "code",
   "execution_count": 102,
   "metadata": {},
   "outputs": [
    {
     "data": {
      "text/plain": [
       "   # |      Attribute Name |      Component Name |      Component Type\n",
       "---- | ------------------- | ------------------- | -------------------\n",
       "   0 |  background_order_6 |  background_order_6 |          Polynomial\n",
       "   1 |               Al_Ka |               Al_Ka |            Gaussian\n",
       "   2 |               Al_Kb |               Al_Kb |            Gaussian\n",
       "   3 |                C_Ka |                C_Ka |            Gaussian\n",
       "   4 |               Ca_Ka |               Ca_Ka |            Gaussian\n",
       "   5 |               Ca_Kb |               Ca_Kb |            Gaussian\n",
       "   6 |               Ca_La |               Ca_La |            Gaussian\n",
       "   7 |               Ca_Ll |               Ca_Ll |            Gaussian\n",
       "   8 |               Ca_Ln |               Ca_Ln |            Gaussian\n",
       "   9 |               Cr_La |               Cr_La |            Gaussian\n",
       "  10 |              Cr_Lb3 |              Cr_Lb3 |            Gaussian\n",
       "  11 |               Cr_Ll |               Cr_Ll |            Gaussian\n",
       "  12 |               Cr_Ln |               Cr_Ln |            Gaussian\n",
       "  13 |               Fe_La |               Fe_La |            Gaussian\n",
       "  14 |              Fe_Lb3 |              Fe_Lb3 |            Gaussian\n",
       "  15 |               Fe_Ll |               Fe_Ll |            Gaussian\n",
       "  16 |               Fe_Ln |               Fe_Ln |            Gaussian\n",
       "  17 |                K_Ka |                K_Ka |            Gaussian\n",
       "  18 |                K_Kb |                K_Kb |            Gaussian\n",
       "  19 |               Mg_Ka |               Mg_Ka |            Gaussian\n",
       "  20 |               Mg_Kb |               Mg_Kb |            Gaussian\n",
       "  21 |               Mn_La |               Mn_La |            Gaussian\n",
       "  22 |              Mn_Lb3 |              Mn_Lb3 |            Gaussian\n",
       "  23 |               Mn_Ll |               Mn_Ll |            Gaussian\n",
       "  24 |               Mn_Ln |               Mn_Ln |            Gaussian\n",
       "  25 |               Na_Ka |               Na_Ka |            Gaussian\n",
       "  26 |               Na_Kb |               Na_Kb |            Gaussian\n",
       "  27 |               Ni_La |               Ni_La |            Gaussian\n",
       "  28 |              Ni_Lb3 |              Ni_Lb3 |            Gaussian\n",
       "  29 |               Ni_Ll |               Ni_Ll |            Gaussian\n",
       "  30 |               Ni_Ln |               Ni_Ln |            Gaussian\n",
       "  31 |              Ni_Lb1 |              Ni_Lb1 |            Gaussian\n",
       "  32 |                O_Ka |                O_Ka |            Gaussian\n",
       "  33 |                P_Ka |                P_Ka |            Gaussian\n",
       "  34 |                P_Kb |                P_Kb |            Gaussian\n",
       "  35 |                S_Ka |                S_Ka |            Gaussian\n",
       "  36 |                S_Kb |                S_Kb |            Gaussian\n",
       "  37 |               Si_Ka |               Si_Ka |            Gaussian\n",
       "  38 |               Si_Kb |               Si_Kb |            Gaussian\n",
       "  39 |               Ti_Ka |               Ti_Ka |            Gaussian\n",
       "  40 |               Ti_Kb |               Ti_Kb |            Gaussian\n",
       "  41 |               Ti_La |               Ti_La |            Gaussian\n",
       "  42 |              Ti_Lb3 |              Ti_Lb3 |            Gaussian\n",
       "  43 |               Ti_Ll |               Ti_Ll |            Gaussian\n",
       "  44 |               Ti_Ln |               Ti_Ln |            Gaussian"
      ]
     },
     "execution_count": 102,
     "metadata": {},
     "output_type": "execute_result"
    }
   ],
   "source": [
    "m3.components"
   ]
  },
  {
   "cell_type": "code",
   "execution_count": 80,
   "metadata": {},
   "outputs": [
    {
     "name": "stderr",
     "output_type": "stream",
     "text": [
      "C:\\Anaconda3\\lib\\site-packages\\matplotlib\\text.py:886: ComplexWarning: Casting complex values to real discards the imaginary part\n",
      "  y = float(self.convert_yunits(self._y))\n",
      "C:\\Anaconda3\\lib\\site-packages\\matplotlib\\text.py:755: ComplexWarning: Casting complex values to real discards the imaginary part\n",
      "  posy = float(textobj.convert_yunits(textobj._y))\n"
     ]
    }
   ],
   "source": [
    "j=d.isig[2.5:]\n",
    "\n",
    "f=j.integrate1D('Energy')"
   ]
  },
  {
   "cell_type": "code",
   "execution_count": 81,
   "metadata": {},
   "outputs": [
    {
     "name": "stderr",
     "output_type": "stream",
     "text": [
      "C:\\Anaconda3\\lib\\site-packages\\matplotlib\\text.py:886: ComplexWarning: Casting complex values to real discards the imaginary part\n",
      "  y = float(self.convert_yunits(self._y))\n",
      "C:\\Anaconda3\\lib\\site-packages\\matplotlib\\text.py:755: ComplexWarning: Casting complex values to real discards the imaginary part\n",
      "  posy = float(textobj.convert_yunits(textobj._y))\n"
     ]
    }
   ],
   "source": [
    "#for i in range (0,len(y)) :\n",
    "\n",
    "b=f.data[0]\n",
    "b=np.float32(b)\n",
    "tiff.imsave('D:\\\\Users\\Documents\\Python Scripts\\Carto_Paris_Zone1_110117\\Carto tiff rebin\\ ' + 'U' + '.tif',(b))"
   ]
  },
  {
   "cell_type": "code",
   "execution_count": 29,
   "metadata": {
    "scrolled": true
   },
   "outputs": [
    {
     "name": "stderr",
     "output_type": "stream",
     "text": [
      "C:\\Anaconda3\\lib\\site-packages\\matplotlib\\axes\\_axes.py:519: UserWarning: No labelled objects found. Use label='...' kwarg on individual plots.\n",
      "  warnings.warn(\"No labelled objects found. \"\n"
     ]
    }
   ],
   "source": [
    "plt.close('all')\n",
    "for i in range (0,len(y)) :\n",
    "    b=y[i].data\n",
    "    plt.figure()\n",
    "    plt.imshow(b[0,:,:])\n",
    "    plt.title(s.metadata.Sample.xray_lines[i])\n",
    "    plt.legend()"
   ]
  },
  {
   "cell_type": "code",
   "execution_count": 85,
   "metadata": {},
   "outputs": [
    {
     "name": "stdout",
     "output_type": "stream",
     "text": [
      "Variable   Type              Data/Info\n",
      "--------------------------------------\n",
      "BytesIO    type              <class '_io.BytesIO'>\n",
      "Image      module            <module 'PIL.Image' from <...>packages\\\\PIL\\\\Image.py'>\n",
      "cluster    module            <module 'sklearn.cluster'<...>n\\\\cluster\\\\__init__.py'>\n",
      "cv2        module            <module 'cv2' from 'C:\\\\A<...>\\cv2.cp35-win_amd64.pyd'>\n",
      "d          EDSSEMSpectrum    <EDSSEMSpectrum, title: M<...>ensions: (41, 22, 1|512)>\n",
      "g1         Gaussian          <Gaussian (Gaussian component)>\n",
      "g2         Gaussian          <Gaussian_0 (Gaussian component)>\n",
      "hs         module            <module 'hyperspy.api' fr<...>kages\\\\hyperspy\\\\api.py'>\n",
      "hyperspy   module            <module 'hyperspy' from '<...>\\\\hyperspy\\\\__init__.py'>\n",
      "m          EDSSEMModel       <EDSSEMModel, title: Map <...>ition with 12 components>\n",
      "np         module            <module 'numpy' from 'C:\\<...>ges\\\\numpy\\\\__init__.py'>\n",
      "plt        module            <module 'matplotlib.pyplo<...>\\\\matplotlib\\\\pyplot.py'>\n",
      "rect_roi   RectangularROI    RectangularROI(left=57.68<...>ht=79.38, bottom=24.8724)\n",
      "roi2D      EDSSEMSpectrum    <EDSSEMSpectrum, title: M<...>ensions: (41, 22, 1|512)>\n",
      "s          EDSSEMSpectrum    <EDSSEMSpectrum, title: M<...>ons: (1024, 832, 1|1024)>\n",
      "sr         EDSSEMSpectrum    <EDSSEMSpectrum, title: M<...>ensions: (41, 22, 1|512)>\n",
      "t          EDSSEMSpectrum    <EDSSEMSpectrum, title: M<...>sions: (512, 416, 1|512)>\n",
      "tiff       module            <module 'tifffile' from '<...>\\\\tifffile\\\\__init__.py'>\n",
      "u          EDSSEMSpectrum    <EDSSEMSpectrum, title: M<...>ensions: (41, 22, 1|512)>\n",
      "x          ModelStub         ├── components\\n│   ├── A<...>sions = (41, 22, 1|512)\\n\n"
     ]
    }
   ],
   "source": [
    "whos"
   ]
  },
  {
   "cell_type": "code",
   "execution_count": null,
   "metadata": {
    "collapsed": true
   },
   "outputs": [],
   "source": []
  }
 ],
 "metadata": {
  "kernelspec": {
   "display_name": "Python 3",
   "language": "python",
   "name": "python3"
  },
  "language_info": {
   "codemirror_mode": {
    "name": "ipython",
    "version": 3
   },
   "file_extension": ".py",
   "mimetype": "text/x-python",
   "name": "python",
   "nbconvert_exporter": "python",
   "pygments_lexer": "ipython3",
   "version": "3.5.5"
  }
 },
 "nbformat": 4,
 "nbformat_minor": 1
}
